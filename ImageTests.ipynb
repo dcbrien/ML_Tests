{
 "cells": [
  {
   "cell_type": "code",
   "execution_count": 1,
   "metadata": {},
   "outputs": [
    {
     "data": {
      "text/plain": [
       "array([0., 0., 0., ..., 2., 2., 2.])"
      ]
     },
     "execution_count": 1,
     "metadata": {},
     "output_type": "execute_result"
    }
   ],
   "source": [
    "# Testing imgage in python\n",
    "# Let's generate a set of data of simple shapes and then create a deep network to classify them\n",
    "%matplotlib inline\n",
    "\n",
    "import cv2\n",
    "import numpy as np\n",
    "import matplotlib.pyplot as plt\n",
    "import random\n",
    "\n",
    "h=128\n",
    "w=128\n",
    "\n",
    "NUM_SAMP = 5000\n",
    "\n",
    "x_data=np.empty([NUM_SAMP*3, h, w, 3])\n",
    "\n",
    "for i in range(NUM_SAMP):\n",
    "    # Circles\n",
    "    img = np.zeros((h,w,3), np.uint8)\n",
    "\n",
    "    cv2.circle(img, (random.randint(0, h-1), random.randint(0, w-1)), random.randint(10, 50), (random.randint(0, 255), random.randint(0, 255), random.randint(0, 255)), -1)\n",
    "    x_data[i,:,:,:] = img/255\n",
    "    \n",
    "    # Rectangles\n",
    "    img = np.zeros((h,w,3), np.uint8)\n",
    "    cv2.rectangle(img, (random.randint(0, h-1), random.randint(0, w-1)), (random.randint(0, h-1), random.randint(0, w-1)), \n",
    "                 (random.randint(0, 255), random.randint(0, 255), random.randint(0, 255)), -1)\n",
    "    x_data[i+NUM_SAMP,:,:,:] = img/255\n",
    "    \n",
    "    # Triangles\n",
    "    img = np.zeros((h,w,3), np.uint8)\n",
    "    \n",
    "    pts = np.array([[random.randint(0, h-1), random.randint(0, w-1)], [random.randint(0, h-1), random.randint(0, w-1)], [random.randint(0, h-1), random.randint(0, w-1)]])\n",
    "    cv2.fillPoly(img, [pts], (random.randint(0, 255), random.randint(0, 255), random.randint(0, 255)))\n",
    "    x_data[i+NUM_SAMP*2,:,:,:] = img/255\n",
    "\n",
    "y_data=np.concatenate((np.ones((1, NUM_SAMP))*0, np.ones((1, NUM_SAMP))*1, np.ones((1, NUM_SAMP))*2), axis=None)\n",
    "\n",
    "y_data\n",
    "#nplt.imshow(x_data[290, :, :, :])"
   ]
  },
  {
   "cell_type": "code",
   "execution_count": 2,
   "metadata": {},
   "outputs": [],
   "source": [
    "# Now we have some made up data in x_data, y_data of basic shapes.  Split into test and validation sets and train a simple network\n",
    "from sklearn.model_selection import train_test_split\n",
    "\n",
    "x_train, x_test, Y_train, Y_test = train_test_split(x_data, y_data, test_size=0.33, random_state=42)"
   ]
  },
  {
   "cell_type": "code",
   "execution_count": 32,
   "metadata": {},
   "outputs": [
    {
     "data": {
      "text/plain": [
       "array([2., 0., 1., ..., 1., 1., 0.])"
      ]
     },
     "execution_count": 32,
     "metadata": {},
     "output_type": "execute_result"
    }
   ],
   "source": [
    "Y_train"
   ]
  },
  {
   "cell_type": "code",
   "execution_count": 9,
   "metadata": {},
   "outputs": [
    {
     "name": "stdout",
     "output_type": "stream",
     "text": [
      "x_train shape: (10050, 128, 128, 3)\n",
      "10050 train samples\n",
      "4950 test samples\n",
      "_________________________________________________________________\n",
      "Layer (type)                 Output Shape              Param #   \n",
      "=================================================================\n",
      "conv2d_13 (Conv2D)           (None, 126, 126, 32)      896       \n",
      "_________________________________________________________________\n",
      "conv2d_14 (Conv2D)           (None, 124, 124, 32)      9248      \n",
      "_________________________________________________________________\n",
      "max_pooling2d_7 (MaxPooling2 (None, 62, 62, 32)        0         \n",
      "_________________________________________________________________\n",
      "dropout_7 (Dropout)          (None, 62, 62, 32)        0         \n",
      "_________________________________________________________________\n",
      "conv2d_15 (Conv2D)           (None, 60, 60, 64)        18496     \n",
      "_________________________________________________________________\n",
      "conv2d_16 (Conv2D)           (None, 58, 58, 64)        36928     \n",
      "_________________________________________________________________\n",
      "max_pooling2d_8 (MaxPooling2 (None, 29, 29, 64)        0         \n",
      "_________________________________________________________________\n",
      "dropout_8 (Dropout)          (None, 29, 29, 64)        0         \n",
      "_________________________________________________________________\n",
      "global_average_pooling2d_7 ( (None, 64)                0         \n",
      "_________________________________________________________________\n",
      "dense_13 (Dense)             (None, 128)               8320      \n",
      "_________________________________________________________________\n",
      "dropout_9 (Dropout)          (None, 128)               0         \n",
      "_________________________________________________________________\n",
      "dense_14 (Dense)             (None, 3)                 387       \n",
      "=================================================================\n",
      "Total params: 74,275\n",
      "Trainable params: 74,275\n",
      "Non-trainable params: 0\n",
      "_________________________________________________________________\n",
      "None\n",
      "Train on 10050 samples, validate on 4950 samples\n",
      "Epoch 1/5\n",
      "10050/10050 [==============================] - 11s 1ms/step - loss: 0.9692 - acc: 0.4676 - val_loss: 1.0067 - val_acc: 0.4931\n",
      "Epoch 2/5\n",
      "10050/10050 [==============================] - 11s 1ms/step - loss: 0.6933 - acc: 0.6688 - val_loss: 0.5025 - val_acc: 0.8204\n",
      "Epoch 3/5\n",
      "10050/10050 [==============================] - 11s 1ms/step - loss: 0.2881 - acc: 0.8886 - val_loss: 0.1866 - val_acc: 0.9263\n",
      "Epoch 4/5\n",
      "10050/10050 [==============================] - 11s 1ms/step - loss: 0.1916 - acc: 0.9261 - val_loss: 0.1504 - val_acc: 0.9374\n",
      "Epoch 5/5\n",
      "10050/10050 [==============================] - 11s 1ms/step - loss: 0.1680 - acc: 0.9354 - val_loss: 0.1318 - val_acc: 0.9533\n",
      "Test loss: 0.13181652672664085\n",
      "Test accuracy: 0.9533333333333334\n"
     ]
    }
   ],
   "source": [
    "import keras\n",
    "from keras.models import Model, Sequential\n",
    "from keras.layers import Dense, Dropout, Flatten, GlobalAveragePooling2D\n",
    "from keras.layers import Conv2D, MaxPooling2D\n",
    "from keras import backend as K\n",
    "import tensorflow as tf\n",
    "#from keras.utils import to_categorical\n",
    "\n",
    "import pdb\n",
    "\n",
    "from keras.applications.vgg16 import VGG16\n",
    "\n",
    "batch_size = 64\n",
    "num_classes = 3\n",
    "epochs = 5\n",
    "\n",
    "# input image dimensions\n",
    "img_rows, img_cols = w, h\n",
    "\n",
    "input_shape = (img_rows, img_cols, 3)\n",
    "\n",
    "print('x_train shape:', x_train.shape)\n",
    "print(x_train.shape[0], 'train samples')\n",
    "print(x_test.shape[0], 'test samples')\n",
    "\n",
    "# convert class vectors to binary class matrices\n",
    "y_train = keras.utils.to_categorical(Y_train, num_classes)\n",
    "y_test = keras.utils.to_categorical(Y_test, num_classes)\n",
    "\n",
    "model = Sequential()\n",
    "model.add(Conv2D(32, kernel_size=(3, 3),\n",
    "                 activation='relu',\n",
    "                 input_shape=input_shape))\n",
    "model.add(Conv2D(32, (3, 3), activation='relu'))\n",
    "model.add(MaxPooling2D(pool_size=(2, 2)))\n",
    "model.add(Dropout(0.25))\n",
    "\n",
    "model.add(Conv2D(64, (3, 3), activation='relu'))\n",
    "model.add(Conv2D(64, (3, 3), activation='relu'))\n",
    "model.add(MaxPooling2D(pool_size=(2, 2)))\n",
    "model.add(Dropout(0.25))\n",
    "\n",
    "model.add(GlobalAveragePooling2D())\n",
    "model.add(Dense(128, activation='relu'))\n",
    "model.add(Dropout(0.5))\n",
    "model.add(Dense(num_classes, activation='softmax'))    \n",
    " \n",
    "# let's define the loss function by hand\n",
    "def get_cat_crossentropy_loss():\n",
    "    def weighted_loss(y_true, y_pred):\n",
    "        # scale preds so that the class probas of each sample sum to 1\n",
    "        # Don notes: Haven't figured out why this is required.  y_pred is the output of softmax,\n",
    "        # and so should already sum to 1???  Sometimes there is round-off error it looks like and\n",
    "        # it comes out as 0.99999999 or 1.000000002.  I'm not sure why this is a big issue though.\n",
    "        # Practically the algorithm still works and is clipped later.\n",
    "        y_pred_sum = K.print_tensor(tf.reduce_sum(y_pred, -1, True), message=\"y_pred is: \")\n",
    "        y_pred /= y_pred_sum\n",
    "        # manual computation of crossentropy\n",
    "        # Don notes: Looks like any math has to be as a tensor in the same type\n",
    "        _epsilon = tf.convert_to_tensor(K.epsilon(), y_pred.dtype.base_dtype)\n",
    "        # Don notes: We clip the values of y_pred to be away from the asymtopes of the log\n",
    "        # function.  If we didn't, we will get inf or NaN values.\n",
    "        y_pred = tf.clip_by_value(y_pred, _epsilon, 1. - _epsilon)\n",
    "        return - tf.reduce_sum(y_true * tf.log(y_pred), -1)\n",
    "    return weighted_loss\n",
    "    \n",
    "print(model.summary())\n",
    "\n",
    "model.compile(loss=get_cat_crossentropy_loss(),\n",
    "              optimizer=keras.optimizers.adam(),\n",
    "              metrics=['accuracy'])\n",
    "\n",
    "model.fit(x_train, y_train,\n",
    "          batch_size=batch_size,\n",
    "          epochs=epochs,\n",
    "          verbose=1,\n",
    "          validation_data=(x_test, y_test))\n",
    "score = model.evaluate(x_test, y_test, verbose=0)\n",
    "print('Test loss:', score[0])\n",
    "print('Test accuracy:', score[1])"
   ]
  },
  {
   "cell_type": "code",
   "execution_count": 40,
   "metadata": {},
   "outputs": [
    {
     "name": "stdout",
     "output_type": "stream",
     "text": [
      "0.21072103131565256\n",
      "0.21072103131565206\n"
     ]
    }
   ],
   "source": [
    "import sys\n",
    "\n",
    "x=np.array(([0.1, 0.9, 0.4], [0.9, 0.2, 0.3]))\n",
    "\n",
    "y=np.array(([0, 1, 0], [1, 0, 0]))\n",
    "\n",
    "print(np.sum(-np.log(x[y.astype('bool')])))\n",
    "\n",
    "print(np.sum(-np.log(x+sys.float_info.epsilon)*y))"
   ]
  },
  {
   "cell_type": "code",
   "execution_count": 10,
   "metadata": {},
   "outputs": [],
   "source": [
    "y_pred=model.predict_classes(x_test)\n",
    "y_prob=model.predict_proba(x_test)"
   ]
  },
  {
   "cell_type": "code",
   "execution_count": 40,
   "metadata": {},
   "outputs": [
    {
     "name": "stdout",
     "output_type": "stream",
     "text": [
      "Shape.TRIANGLE\n",
      "99.99996423721313%\n"
     ]
    },
    {
     "data": {
      "image/png": "[encoded data removed]",
      "text/plain": [
       "<Figure size 432x288 with 1 Axes>"
      ]
     },
     "metadata": {
      "needs_background": "light"
     },
     "output_type": "display_data"
    }
   ],
   "source": [
    "from enum import Enum\n",
    "class Shape(Enum):\n",
    "    CIRCLE = 0\n",
    "    RECTANGLE = 1\n",
    "    TRIANGLE = 2\n",
    "\n",
    "img_num = random.randint(0, x_test.shape[0])\n",
    "\n",
    "plt.imshow(x_test[img_num, :, :, :])\n",
    "\n",
    "print(Shape(y_pred[img_num]))\n",
    "print((str(y_prob[img_num][y_pred[img_num]]*100) + '%'))"
   ]
  }
 ],
 "metadata": {
  "kernelspec": {
   "display_name": "caffe2",
   "language": "python",
   "name": "myenv"
  },
  "language_info": {
   "codemirror_mode": {
    "name": "ipython",
    "version": 3
   },
   "file_extension": ".py",
   "mimetype": "text/x-python",
   "name": "python",
   "nbconvert_exporter": "python",
   "pygments_lexer": "ipython3",
   "version": "3.6.3"
  }
 },
 "nbformat": 4,
 "nbformat_minor": 2
}
