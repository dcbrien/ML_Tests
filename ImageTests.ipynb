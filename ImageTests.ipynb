{
 "cells": [
  {
   "cell_type": "code",
   "execution_count": 1,
   "metadata": {},
   "outputs": [],
   "source": [
    "# Testing imgage in python\n",
    "# Let's generate a set of data of simple shapes and then create a deep network to classify them\n",
    "# As per YOLO, define a grid of size S * NUM_SHAPES over the image and place a 1 where the object\n",
    "# center is.  Then we will manipulate our deep network to output the same sized tensor and run a \n",
    "# simple squared error calculation for loss.  In this way we can detect the type of object, but also\n",
    "# it's location in the image.\n",
    "%matplotlib inline\n",
    "\n",
    "import cv2\n",
    "import numpy as np\n",
    "import matplotlib.pyplot as plt\n",
    "import random\n",
    "import math\n",
    "\n",
    "import pdb\n",
    "\n",
    "from enum import Enum\n",
    "\n",
    "class Shape(Enum):\n",
    "    CIRCLE = 0\n",
    "    RECTANGLE = 1\n",
    "    TRIANGLE = 2\n",
    "\n",
    "# Grid size\n",
    "S=10\n",
    "\n",
    "# Image size\n",
    "h=128\n",
    "w=128\n",
    "\n",
    "# Grid width and height\n",
    "s_h = h / S\n",
    "s_w = w / S\n",
    "\n",
    "# Number of each type of object to create\n",
    "NUM_SAMP = 5000\n",
    "\n",
    "# Image data to feed in as input to the network\n",
    "x_data=np.empty([NUM_SAMP*3, h, w, 3])\n",
    "\n",
    "# Tensor output to compare to the network output.  This will be our\n",
    "# new y_train and y_test\n",
    "y_data=np.zeros([NUM_SAMP*3, S, S, 3])\n",
    "\n",
    "# TODO: Abstract this away to a class structure - a lot of replication here\n",
    "for i in range(NUM_SAMP):\n",
    "    # Circles\n",
    "    img = np.zeros((h,w,3), np.uint8)\n",
    "\n",
    "    cc = (random.randint(0, h-1), random.randint(0, w-1))\n",
    "    \n",
    "    #pdb.set_trace()\n",
    "    \n",
    "    cv2.circle(img, cc, random.randint(10, 50), (random.randint(0, 255), random.randint(0, 255), random.randint(0, 255)), -1)\n",
    "    x_data[i,:,:,:] = img/255\n",
    "    \n",
    "    g_point = (math.floor(cc[0] / s_w), math.floor(cc[1] / s_h))\n",
    "    y_data[i, g_point[1], g_point[0], 0] = 1\n",
    "    \n",
    "    # Rectangles\n",
    "    img = np.zeros((h,w,3), np.uint8)\n",
    "    \n",
    "    tl = (random.randint(0, h-1), random.randint(0, w-1))\n",
    "    br = (random.randint(0, h-1), random.randint(0, w-1))\n",
    "    \n",
    "    # Calculate center\n",
    "    cc = ((br[0]+tl[0])/2, (br[1]+tl[1])/2)\n",
    "    \n",
    "    cv2.rectangle(img, tl, br, \n",
    "                 (random.randint(0, 255), random.randint(0, 255), random.randint(0, 255)), -1)\n",
    "    x_data[i+NUM_SAMP,:,:,:] = img/255\n",
    "    \n",
    "    g_point = (math.floor(cc[0] / s_w), math.floor(cc[1] / s_h))  \n",
    "    y_data[i+NUM_SAMP, g_point[1], g_point[0], 1] = 1\n",
    "    \n",
    "    # Triangles\n",
    "    img = np.zeros((h,w,3), np.uint8)\n",
    "    \n",
    "    p1 = [random.randint(0, h-1), random.randint(0, w-1)]\n",
    "    p2 = [random.randint(0, h-1), random.randint(0, w-1)]\n",
    "    p3 = [random.randint(0, h-1), random.randint(0, w-1)]\n",
    "    \n",
    "    # Calculate center\n",
    "    cc = ((p1[0]+p2[0]+p3[0])/3, (p1[1]+p2[1]+p3[1])/3)\n",
    "    pts = np.array([p1, p2, p3])\n",
    "    \n",
    "    cv2.fillPoly(img, [pts], (random.randint(0, 255), random.randint(0, 255), random.randint(0, 255)))\n",
    "    x_data[i+NUM_SAMP*2,:,:,:] = img/255\n",
    "    \n",
    "    g_point = (math.floor(cc[0] / s_w), math.floor(cc[1] / s_h))\n",
    "    y_data[i+NUM_SAMP*2, g_point[1], g_point[0], 2] = 1\n",
    "\n",
    "#y_data=np.concatenate((np.ones((1, NUM_SAMP))*0, np.ones((1, NUM_SAMP))*1, np.ones((1, NUM_SAMP))*2), axis=None)\n",
    "\n",
    "#y_data\n",
    "#nplt.imshow(x_data[290, :, :, :])"
   ]
  },
  {
   "cell_type": "code",
   "execution_count": 2,
   "metadata": {},
   "outputs": [],
   "source": [
    "# Function to plot the grid and center point of our made up images\n",
    "import matplotlib.ticker as plticker\n",
    "\n",
    "loc = plticker.MultipleLocator(base=(h / S))\n",
    "\n",
    "def plot_img(x_data, y_data, i):\n",
    "    img=x_data[i, :, :, :]\n",
    "    \n",
    "    y=y_data[i, :, :, :]\n",
    "\n",
    "    obj_ind = np.where(y==1)\n",
    "\n",
    "    obj_type = obj_ind[2][0]\n",
    "  \n",
    "    obj_center =(math.floor(obj_ind[1][0] * s_h + s_h/2), math.floor(obj_ind[0][0] * s_w + s_w/2))\n",
    "\n",
    "    print([str(Shape(obj_type)) + ' located at ' + str(obj_center)])    \n",
    "    \n",
    "    print(obj_ind[0][0] * h/S)   \n",
    "    \n",
    "    \n",
    "    fig=plt.figure(figsize=(10, 10))\n",
    "    ax=fig.add_subplot(111)\n",
    "    ax.xaxis.set_major_locator(loc)\n",
    "    ax.yaxis.set_major_locator(loc)\n",
    "    ax.grid(which='major', axis='both', linestyle='-', color='g')\n",
    "    \n",
    "    cv2.circle(img, obj_center, 2, (255, 0, 0), -1)\n",
    "    \n",
    "    ax.imshow(img)\n",
    "    \n",
    "    plt.show()"
   ]
  },
  {
   "cell_type": "code",
   "execution_count": 3,
   "metadata": {},
   "outputs": [
    {
     "name": "stderr",
     "output_type": "stream",
     "text": [
      "Clipping input data to the valid range for imshow with RGB data ([0..1] for floats or [0..255] for integers).\n"
     ]
    },
    {
     "name": "stdout",
     "output_type": "stream",
     "text": [
      "['Shape.TRIANGLE located at (32, 70)']\n",
      "64.0\n"
     ]
    },
    {
     "data": {
      "image/png": "[encoded data removed]",
      "text/plain": [
       "<Figure size 720x720 with 1 Axes>"
      ]
     },
     "metadata": {
      "needs_background": "light"
     },
     "output_type": "display_data"
    }
   ],
   "source": [
    "plot_img(x_data, y_data, 2500)"
   ]
  },
  {
   "cell_type": "code",
   "execution_count": 12,
   "metadata": {},
   "outputs": [],
   "source": [
    "# Now we have some made up data in x_data, y_data of basic shapes.  Split into test and validation sets and train a simple network\n",
    "from sklearn.model_selection import train_test_split\n",
    "\n",
    "x_train, x_test, y_train, y_test = train_test_split(x_data, y_data, test_size=0.33, random_state=42)"
   ]
  },
  {
   "cell_type": "code",
   "execution_count": 10,
   "metadata": {},
   "outputs": [
    {
     "data": {
      "text/plain": [
       "(2010, 10, 10, 3)"
      ]
     },
     "execution_count": 10,
     "metadata": {},
     "output_type": "execute_result"
    }
   ],
   "source": [
    "Y_train.shape"
   ]
  },
  {
   "cell_type": "code",
   "execution_count": 16,
   "metadata": {},
   "outputs": [
    {
     "name": "stdout",
     "output_type": "stream",
     "text": [
      "x_train shape: (2010, 128, 128, 3)\n",
      "2010 train samples\n",
      "990 test samples\n",
      "_________________________________________________________________\n",
      "Layer (type)                 Output Shape              Param #   \n",
      "=================================================================\n",
      "conv2d_25 (Conv2D)           (None, 126, 126, 32)      896       \n",
      "_________________________________________________________________\n",
      "conv2d_26 (Conv2D)           (None, 124, 124, 32)      9248      \n",
      "_________________________________________________________________\n",
      "max_pooling2d_13 (MaxPooling (None, 62, 62, 32)        0         \n",
      "_________________________________________________________________\n",
      "dropout_13 (Dropout)         (None, 62, 62, 32)        0         \n",
      "_________________________________________________________________\n",
      "conv2d_27 (Conv2D)           (None, 60, 60, 64)        18496     \n",
      "_________________________________________________________________\n",
      "conv2d_28 (Conv2D)           (None, 58, 58, 64)        36928     \n",
      "_________________________________________________________________\n",
      "max_pooling2d_14 (MaxPooling (None, 29, 29, 64)        0         \n",
      "_________________________________________________________________\n",
      "dropout_14 (Dropout)         (None, 29, 29, 64)        0         \n",
      "_________________________________________________________________\n",
      "global_average_pooling2d_6 ( (None, 64)                0         \n",
      "_________________________________________________________________\n",
      "dense_13 (Dense)             (None, 4096)              266240    \n",
      "_________________________________________________________________\n",
      "dense_14 (Dense)             (None, 300)               1229100   \n",
      "_________________________________________________________________\n",
      "reshape_7 (Reshape)          (None, 10, 10, 3)         0         \n",
      "=================================================================\n",
      "Total params: 1,560,908\n",
      "Trainable params: 1,560,908\n",
      "Non-trainable params: 0\n",
      "_________________________________________________________________\n",
      "None\n",
      "Train on 2010 samples, validate on 990 samples\n",
      "Epoch 1/20\n",
      "2010/2010 [==============================] - 3s 1ms/step - loss: 63.3279 - acc: 0.4439 - val_loss: 62.6728 - val_acc: 0.5016\n",
      "Epoch 2/20\n",
      "2010/2010 [==============================] - 2s 953us/step - loss: 63.2031 - acc: 0.4716 - val_loss: 62.6588 - val_acc: 0.4544\n",
      "Epoch 3/20\n",
      "2010/2010 [==============================] - 2s 954us/step - loss: 63.1816 - acc: 0.4996 - val_loss: 62.6319 - val_acc: 0.4855\n",
      "Epoch 4/20\n",
      "2010/2010 [==============================] - 2s 955us/step - loss: 63.2464 - acc: 0.4588 - val_loss: 62.6474 - val_acc: 0.5018\n",
      "Epoch 5/20\n",
      "2010/2010 [==============================] - 2s 966us/step - loss: 63.1762 - acc: 0.4932 - val_loss: 62.6343 - val_acc: 0.4634\n",
      "Epoch 6/20\n",
      "2010/2010 [==============================] - 2s 971us/step - loss: 63.1749 - acc: 0.4759 - val_loss: 62.6368 - val_acc: 0.4525\n",
      "Epoch 7/20\n",
      "2010/2010 [==============================] - 2s 972us/step - loss: 63.1736 - acc: 0.4690 - val_loss: 62.6433 - val_acc: 0.4947\n",
      "Epoch 8/20\n",
      "2010/2010 [==============================] - 2s 956us/step - loss: 63.1798 - acc: 0.4847 - val_loss: 62.6386 - val_acc: 0.4630\n",
      "Epoch 9/20\n",
      "2010/2010 [==============================] - 2s 962us/step - loss: 63.1768 - acc: 0.4844 - val_loss: 62.6349 - val_acc: 0.4653\n",
      "Epoch 10/20\n",
      "2010/2010 [==============================] - 2s 961us/step - loss: 63.1645 - acc: 0.4972 - val_loss: 62.6201 - val_acc: 0.4899\n",
      "Epoch 11/20\n",
      "2010/2010 [==============================] - 2s 957us/step - loss: 63.1249 - acc: 0.4804 - val_loss: 62.5933 - val_acc: 0.5029\n",
      "Epoch 12/20\n",
      "2010/2010 [==============================] - 2s 954us/step - loss: 63.0540 - acc: 0.4640 - val_loss: 62.5626 - val_acc: 0.4694\n",
      "Epoch 13/20\n",
      "2010/2010 [==============================] - 2s 956us/step - loss: 62.9646 - acc: 0.4641 - val_loss: 62.4527 - val_acc: 0.4868\n",
      "Epoch 14/20\n",
      "2010/2010 [==============================] - 2s 955us/step - loss: 62.8616 - acc: 0.4774 - val_loss: 62.3521 - val_acc: 0.4579\n",
      "Epoch 15/20\n",
      "2010/2010 [==============================] - 2s 960us/step - loss: 62.8178 - acc: 0.4539 - val_loss: 62.3747 - val_acc: 0.4638\n",
      "Epoch 16/20\n",
      "2010/2010 [==============================] - 2s 954us/step - loss: 62.7700 - acc: 0.4795 - val_loss: 62.4567 - val_acc: 0.4481\n",
      "Epoch 17/20\n",
      "2010/2010 [==============================] - 2s 986us/step - loss: 62.7877 - acc: 0.4527 - val_loss: 62.2941 - val_acc: 0.4301\n",
      "Epoch 18/20\n",
      "2010/2010 [==============================] - 2s 988us/step - loss: 62.7178 - acc: 0.4563 - val_loss: 62.2071 - val_acc: 0.4905\n",
      "Epoch 19/20\n",
      "2010/2010 [==============================] - 2s 962us/step - loss: 62.6919 - acc: 0.4676 - val_loss: 62.1901 - val_acc: 0.4706\n",
      "Epoch 20/20\n",
      "2010/2010 [==============================] - 2s 961us/step - loss: 62.6621 - acc: 0.4622 - val_loss: 62.1985 - val_acc: 0.4641\n",
      "Test loss: 31.546726797084617\n",
      "Test accuracy: 0.4641313151879744\n"
     ]
    }
   ],
   "source": [
    "import keras\n",
    "from keras.models import Model, Sequential\n",
    "from keras.layers import Dense, Dropout, Flatten, GlobalAveragePooling2D, Reshape\n",
    "from keras.layers import Conv2D, MaxPooling2D\n",
    "from keras import backend as K\n",
    "import tensorflow as tf\n",
    "#from keras.utils import to_categorical\n",
    "\n",
    "from keras.applications.vgg16 import VGG16\n",
    "\n",
    "batch_size = 64\n",
    "num_classes = 3\n",
    "epochs = 20\n",
    "\n",
    "# input image dimensions\n",
    "img_rows, img_cols = w, h\n",
    "\n",
    "input_shape = (img_rows, img_cols, 3)\n",
    "\n",
    "print('x_train shape:', x_train.shape)\n",
    "print(x_train.shape[0], 'train samples')\n",
    "print(x_test.shape[0], 'test samples')\n",
    "\n",
    "# convert class vectors to binary class matrices\n",
    "#y_train = keras.utils.to_categorical(Y_train, num_classes)\n",
    "#y_test = keras.utils.to_categorical(Y_test, num_classes)\n",
    "\n",
    "model = Sequential()\n",
    "model.add(Conv2D(32, kernel_size=(3, 3),\n",
    "                 activation='relu',\n",
    "                 input_shape=input_shape))\n",
    "model.add(Conv2D(32, (3, 3), activation='relu'))\n",
    "model.add(MaxPooling2D(pool_size=(2, 2)))\n",
    "model.add(Dropout(0.25))\n",
    "\n",
    "model.add(Conv2D(64, (3, 3), activation='relu'))\n",
    "model.add(Conv2D(64, (3, 3), activation='relu'))\n",
    "model.add(MaxPooling2D(pool_size=(2, 2)))\n",
    "model.add(Dropout(0.25))\n",
    "\n",
    "model.add(GlobalAveragePooling2D())\n",
    "model.add(Dense(4096, activation='relu'))\n",
    "# Unsure, but I believe this is the best way to get a tensor at the end with no activation.  Just a linear connection to reorganize the last \n",
    "# dense network into a tensor of the proper size\n",
    "model.add(Dense(S*S*3))\n",
    "model.add(Reshape((S, S, 3)))\n",
    "#model.add(Dropout(0.5))\n",
    "#model.add(Dense(num_classes, activation='softmax'))    \n",
    " \n",
    "# let's define the loss function by hand\n",
    "def get_cat_crossentropy_loss():\n",
    "    def weighted_loss(y_true, y_pred):\n",
    "        # scale preds so that the class probas of each sample sum to 1\n",
    "        # Don notes: Haven't figured out why this is required.  y_pred is the output of softmax,\n",
    "        # and so should already sum to 1???\n",
    "        y_pred_sum = K.print_tensor(tf.reduce_sum(y_pred, -1, True), message=\"y_pred is: \")\n",
    "        y_pred /= y_pred_sum\n",
    "        # manual computation of crossentropy\n",
    "        # Don notes: Looks like any math has to be as a tensor in the same type\n",
    "        _epsilon = tf.convert_to_tensor(K.epsilon(), y_pred.dtype.base_dtype)\n",
    "        # Don notes: We clip the values of y_pred to be away from the asymtopes of the log\n",
    "        # function.  If we didn't, we will get inf or NaN values.\n",
    "        y_pred = tf.clip_by_value(y_pred, _epsilon, 1. - _epsilon)\n",
    "        return - tf.reduce_sum(y_true * tf.log(y_pred), -1)\n",
    "    return weighted_loss\n",
    "\n",
    "def get_yolo_simple():\n",
    "    def yolo_simple(y_true, y_pred):\n",
    "        # Okay so just a simple squared error between output of network and the S*S*NUM_SHAPE y_true\n",
    "        loss = tf.reduce_sum(K.pow(y_true-y_pred, 2))\n",
    "        loss = K.print_tensor(loss, message=\"loss is: \")\n",
    "        return loss\n",
    "    return yolo_simple\n",
    "    \n",
    "print(model.summary())\n",
    "\n",
    "model.compile(loss=get_yolo_simple(),\n",
    "              optimizer=keras.optimizers.adam(),\n",
    "              metrics=['accuracy'])\n",
    "\n",
    "model.fit(x_train, y_train,\n",
    "          batch_size=batch_size,\n",
    "          epochs=epochs,\n",
    "          verbose=1,\n",
    "          validation_data=(x_test, y_test))\n",
    "score = model.evaluate(x_test, y_test, verbose=0)\n",
    "print('Test loss:', score[0])\n",
    "print('Test accuracy:', score[1])"
   ]
  },
  {
   "cell_type": "code",
   "execution_count": 6,
   "metadata": {},
   "outputs": [
    {
     "name": "stdout",
     "output_type": "stream",
     "text": [
      "0.21072103131565256\n",
      "0.21072103131565206\n"
     ]
    }
   ],
   "source": [
    "import sys\n",
    "\n",
    "x=np.array(([0.1, 0.9, 0.4], [0.9, 0.2, 0.3]))\n",
    "\n",
    "y=np.array(([0, 1, 0], [1, 0, 0]))\n",
    "\n",
    "print(np.sum(-np.log(x[y.astype('bool')])))\n",
    "\n",
    "print(np.sum(-np.log(x+sys.float_info.epsilon)*y))"
   ]
  },
  {
   "cell_type": "code",
   "execution_count": 24,
   "metadata": {},
   "outputs": [],
   "source": [
    "y_pred=model.predict_classes(x_test)\n",
    "y_prob=model.predict_proba(x_test)"
   ]
  },
  {
   "cell_type": "code",
   "execution_count": 36,
   "metadata": {},
   "outputs": [
    {
     "name": "stdout",
     "output_type": "stream",
     "text": [
      "Shape.RECTANGLE\n",
      "100.0%\n"
     ]
    },
    {
     "data": {
      "image/png": "[encoded data removed]",
      "text/plain": [
       "<Figure size 432x288 with 1 Axes>"
      ]
     },
     "metadata": {
      "needs_background": "light"
     },
     "output_type": "display_data"
    }
   ],
   "source": [
    "img_num = random.randint(0, x_test.shape[0])\n",
    "\n",
    "plt.imshow(x_test[img_num, :, :, :])\n",
    "\n",
    "print(Shape(y_pred[img_num]))\n",
    "print((str(y_prob[img_num][y_pred[img_num]]*100) + '%'))"
   ]
  }
 ],
 "metadata": {
  "kernelspec": {
   "display_name": "caffe2",
   "language": "python",
   "name": "myenv"
  },
  "language_info": {
   "codemirror_mode": {
    "name": "ipython",
    "version": 3
   },
   "file_extension": ".py",
   "mimetype": "text/x-python",
   "name": "python",
   "nbconvert_exporter": "python",
   "pygments_lexer": "ipython3",
   "version": "3.6.3"
  }
 },
 "nbformat": 4,
 "nbformat_minor": 2
}
