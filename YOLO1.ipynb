{
  "nbformat": 4,
  "nbformat_minor": 0,
  "metadata": {
    "colab": {
      "name": "YOLO1.ipynb",
      "provenance": [],
      "collapsed_sections": [],
      "machine_shape": "hm",
      "authorship_tag": "ABX9TyMxdzuylfgLkSha+S63iV0D",
      "include_colab_link": true
    },
    "kernelspec": {
      "name": "python3",
      "display_name": "Python 3"
    },
    "language_info": {
      "name": "python"
    },
    "accelerator": "GPU"
  },
  "cells": [
    {
      "cell_type": "markdown",
      "metadata": {
        "id": "view-in-github",
        "colab_type": "text"
      },
      "source": [
        "<a href=\"https://colab.research.google.com/github/dcbrien/ML_Tests/blob/master/YOLO1.ipynb\" target=\"_parent\"><img src=\"https://colab.research.google.com/assets/colab-badge.svg\" alt=\"Open In Colab\"/></a>"
      ]
    },
    {
      "cell_type": "markdown",
      "metadata": {
        "id": "82X2n2KoRqlS"
      },
      "source": [
        "Implementing YOLO v1 as a learning tool"
      ]
    },
    {
      "cell_type": "code",
      "metadata": {
        "id": "qAIfgEvORycS"
      },
      "source": [
        "import collections\n",
        "import logging\n",
        "import os\n",
        "import pathlib\n",
        "import re\n",
        "import string\n",
        "import sys\n",
        "import time\n",
        "\n",
        "import numpy as np\n",
        "import matplotlib.pyplot as plt\n",
        "import cv2 as cv\n",
        "\n",
        "import pandas as pd\n",
        "\n",
        "import tensorflow_datasets as tfds\n",
        "import tensorflow as tf\n",
        "\n",
        "from tensorflow.keras.layers.experimental import preprocessing\n",
        "\n",
        "import seaborn as sns\n",
        "import glob2\n",
        "\n",
        "from matplotlib.patches import Rectangle"
      ],
      "execution_count": 1,
      "outputs": []
    },
    {
      "cell_type": "code",
      "metadata": {
        "colab": {
          "base_uri": "https://localhost:8080/"
        },
        "id": "-_sKPaHnyKw7",
        "outputId": "f7b9b42d-56c4-4bcd-8f39-1086fc83dc19"
      },
      "source": [
        "# Download VOC challenge 2007\n",
        "!wget http://host.robots.ox.ac.uk/pascal/VOC/voc2007/VOCtest_06-Nov-2007.tar"
      ],
      "execution_count": null,
      "outputs": [
        {
          "output_type": "stream",
          "text": [
            "--2021-08-10 20:37:37--  http://host.robots.ox.ac.uk/pascal/VOC/voc2007/VOCtest_06-Nov-2007.tar\n",
            "Resolving host.robots.ox.ac.uk (host.robots.ox.ac.uk)... 129.67.94.152\n",
            "Connecting to host.robots.ox.ac.uk (host.robots.ox.ac.uk)|129.67.94.152|:80... connected.\n",
            "HTTP request sent, awaiting response... 200 OK\n",
            "Length: 451020800 (430M) [application/x-tar]\n",
            "Saving to: ‘VOCtest_06-Nov-2007.tar’\n",
            "\n",
            "VOCtest_06-Nov-2007 100%[===================>] 430.13M  4.88MB/s    in 91s     \n",
            "\n",
            "2021-08-10 20:39:10 (4.71 MB/s) - ‘VOCtest_06-Nov-2007.tar’ saved [451020800/451020800]\n",
            "\n"
          ],
          "name": "stdout"
        }
      ]
    },
    {
      "cell_type": "code",
      "metadata": {
        "id": "CeHuxnENynav"
      },
      "source": [
        "# And unzip\n",
        "!tar -xvf VOCtest_06-Nov-2007.tar"
      ],
      "execution_count": null,
      "outputs": []
    },
    {
      "cell_type": "code",
      "metadata": {
        "colab": {
          "base_uri": "https://localhost:8080/",
          "height": 321
        },
        "id": "yBjKuy2RRy9q",
        "outputId": "4af99821-347f-468e-ceb7-1454e743e542"
      },
      "source": [
        "# The first thing we will need is a dataset.  Let's make a super simple one where we try to first identify, and second label with bounding\n",
        "# boxes, simple shapes in a relatively small image set.\n",
        "\n",
        "# As an example, here is one image with a circle, square, and triangle\n",
        "IMG_SIZE = (512, 512, 3)\n",
        "\n",
        "img = np.zeros(IMG_SIZE, np.float32)\n",
        "\n",
        "# Circles\n",
        "MIN_C_SIZE = 10\n",
        "MAX_C_SIZE = 100\n",
        "\n",
        "c_size = np.random.randint(low=MIN_C_SIZE, high=MAX_C_SIZE)\n",
        "\n",
        "# We will bound the circle so that it is fully in the image for now - We can try to get it to recognized cropped versions later\n",
        "b_irange = (np.random.randint(low=c_size, high=IMG_SIZE[0]-c_size), np.random.randint(low=c_size, high=IMG_SIZE[1]-c_size))\n",
        "print(b_irange)\n",
        "\n",
        "# For each shape we need the bounding box.  This is defined as [x, y, w, h] in the original paper.  For a circle this is simple.\n",
        "bbox = (b_irange[0]-c_size, b_irange[1]-c_size, c_size/IMG_SIZE[0], c_size/IMG_SIZE[1])\n",
        "print(bbox)\n",
        "\n",
        "img2 = cv.circle(img, b_irange, c_size, (np.random.uniform(0, 1), np.random.uniform(0, 1), np.random.uniform(0, 1)), -1)\n",
        "\n",
        "# # Rectangles - 2 points and a colour\n",
        "# r_pt1 = (np.random.randint(low=c_size, high=IMG_SIZE[0]-c_size), np.random.randint(low=c_size, high=IMG_SIZE[1]-c_size))\n",
        "# r_pt2 = (np.random.randint(low=c_size, high=IMG_SIZE[0]-c_size), np.random.randint(low=c_size, high=IMG_SIZE[1]-c_size))\n",
        "\n",
        "# # For the rectangle, the bounding box is also simple\n",
        "# r_min_x = np.min([r_pt1[0], r_pt2[0]])\n",
        "# r_max_x = np.max([r_pt1[0], r_pt2[0]])\n",
        "# r_min_y = np.min([r_pt1[1], r_pt2[1]])\n",
        "# r_max_y = np.max([r_pt1[1], r_pt2[1]])\n",
        "\n",
        "# bbox = (r_min_x, r_min_y, (r_max_x-r_min_x)/IMG_SIZE[0], (r_max_y-r_min_y)/IMG_SIZE[1])\n",
        "# print(bbox)\n",
        "\n",
        "# img2 = cv.rectangle(img2, r_pt1, r_pt2, (np.random.uniform(0, 1), np.random.uniform(0, 1), np.random.uniform(0, 1)), -1)\n",
        "\n",
        "# # Triangles - 3 points and a colour drawn as a polyfill\n",
        "\n",
        "# pts = np.array([[np.random.randint(low=c_size, high=IMG_SIZE[0]-c_size), np.random.randint(low=c_size, high=IMG_SIZE[1]-c_size)],\n",
        "#                 [np.random.randint(low=c_size, high=IMG_SIZE[0]-c_size), np.random.randint(low=c_size, high=IMG_SIZE[1]-c_size)],\n",
        "#                 [np.random.randint(low=c_size, high=IMG_SIZE[0]-c_size), np.random.randint(low=c_size, high=IMG_SIZE[1]-c_size)]], np.int32)\n",
        "# pts = pts.reshape((-1,1,2))\n",
        "\n",
        "# # For the triangles, the bounding box is also simple\n",
        "# r_min_x = np.min([pts[0][0][0], pts[1][0][0], pts[2][0][0]])\n",
        "# r_max_x = np.max([pts[0][0][0], pts[1][0][0], pts[2][0][0]])\n",
        "# r_min_y = np.min([pts[0][0][1], pts[1][0][1], pts[2][0][1]])\n",
        "# r_max_y = np.max([pts[0][0][1], pts[1][0][1], pts[2][0][1]])\n",
        "\n",
        "# bbox = (r_min_x, r_min_y, (r_max_x-r_min_x)/IMG_SIZE[0], (r_max_y-r_min_y)/IMG_SIZE[1])\n",
        "# print(bbox)\n",
        "\n",
        "# img2 = cv.fillPoly(img2, [pts], (0,255,255))\n",
        "\n",
        "plt.imshow(img2)"
      ],
      "execution_count": 2,
      "outputs": [
        {
          "output_type": "stream",
          "text": [
            "(97, 155)\n",
            "(36, 94, 0.119140625, 0.119140625)\n"
          ],
          "name": "stdout"
        },
        {
          "output_type": "execute_result",
          "data": {
            "text/plain": [
              "<matplotlib.image.AxesImage at 0x7ff2f80e83d0>"
            ]
          },
          "metadata": {
            "tags": []
          },
          "execution_count": 2
        },
        {
          "output_type": "display_data",
          "data": {
            "image/png": "[encoded data removed]",
            "text/plain": [
              "<Figure size 432x288 with 1 Axes>"
            ]
          },
          "metadata": {
            "tags": [],
            "needs_background": "light"
          }
        }
      ]
    },
    {
      "cell_type": "code",
      "metadata": {
        "id": "GgzBonVNJLUd"
      },
      "source": [
        "# A class to either generate synthetic data or use the VOC challenge 2007 to\n",
        "# generate bounding box data for classification\n",
        "\n",
        "class yoloGenerator():\n",
        "  def __init__(self, num_samp, S, B, img_size=(224, 224, 3), synth=True, batch_size=32):\n",
        "    self.S = S  # Number of subdivisions of grid\n",
        "    self.B = B  # Number of bounding boxes to predict per gric cell\n",
        "    self.num_samp = num_samp\n",
        "    self.img_size = img_size\n",
        "    self.synth = synth\n",
        "    self.batch_size = batch_size\n",
        "\n",
        "    self.G_SIZE = self.img_size[0]//self.S\n",
        "\n",
        "    if synth:\n",
        "      self.C = 3\n",
        "\n",
        "      imgs, labels = self.makeSythData()\n",
        "\n",
        "      self.img_ls = tf.data.Dataset.zip((tf.data.Dataset.from_tensor_slices(imgs), tf.data.Dataset.from_tensor_slices(labels)))   \n",
        "\n",
        "      self.img_ls_b = self.img_ls.batch(self.batch_size,drop_remainder=True)\n",
        "    else:\n",
        "      # TODO: Add code to convert VOC data to a tf.dataset\n",
        "      # VOC has 20 classes\n",
        "      self.C = 20\n",
        "\n",
        "  # Return synethic data of circles, squares, and rectangles  \n",
        "  def makeSythData(self, objs_per_img=3):\n",
        "    # There are many ways to do this, but we don't need that much data so we\n",
        "    # will just create it all in memory as a dataset.  If you had a lot of \n",
        "    # images you would need to stream them from disk.  Just don't make num_samp \n",
        "    # too large (keep it under 10K with a high-ram colab).\n",
        "    # The array holding the raw image data\n",
        "    imgs = np.zeros((self.num_samp, self.img_size[0], self.img_size[1], self.img_size[2]), np.float32)\n",
        "\n",
        "    # The labels are a tensor of (SXSX(4+C)) where the (4+C) is x, y, w, h, \n",
        "    # class. Classes are one-hot.  It will be mostly zeros and there can only \n",
        "    # be one object per grid cell.\n",
        "    labels = np.zeros((self.num_samp, S, S, 4 + self.C), np.float32)\n",
        "\n",
        "    for s in range(self.num_samp):\n",
        "      img = np.zeros(self.img_size, np.float32)\n",
        "\n",
        "      for i in range(objs_per_img):\n",
        "        img_t = np.random.randint(0, 2)\n",
        "\n",
        "        if img_t == 0:\n",
        "          self.addCircle(img, labels, s)\n",
        "        elif img_t == 1:\n",
        "          self.addRectangle(img, labels, s)\n",
        "\n",
        "      imgs[s, :] = img\n",
        "\n",
        "    return imgs, labels\n",
        "\n",
        "  def addCircle(self, img, labels, s):\n",
        "    # Constansts for circles\n",
        "    MIN_C_SIZE = 20\n",
        "    MAX_C_SIZE = 41\n",
        "    c_size = np.random.randint(low=MIN_C_SIZE, high=MAX_C_SIZE)\n",
        "\n",
        "    # We will bound the circle so that it is fully in the image for now - We can try to get it to recognized cropped versions later\n",
        "    b_irange = (np.random.randint(low=c_size, high=self.img_size[0]-c_size), np.random.randint(low=c_size, high=self.img_size[1]-c_size))\n",
        "    # For each shape we need the bounding box.  This is defined as [x, y, w, h] in the original paper.  For a circle this is simple.\n",
        "    bbox = (b_irange[0]-c_size, b_irange[1]-c_size, c_size*2./self.img_size[0], c_size*2./self.img_size[1])\n",
        "\n",
        "    #Find the grid cell of this object\n",
        "    g_x = b_irange[0] // self.G_SIZE\n",
        "    g_y = b_irange[1] // self.G_SIZE\n",
        "\n",
        "    # We only draw if there is no object in that grid cell already\n",
        "    if np.sum(labels[s, g_x, g_y, 4:]) == 0:\n",
        "      # I bound the colours to make it more realistic.  Most circles will have similar colours, just as most objects in real images will h\n",
        "      # have similar colour profiles\n",
        "      img = cv.circle(img, b_irange, c_size, (np.random.uniform(0.5, 0.7), np.random.uniform(0.5, 0.7), np.random.uniform(0.5, 0.7)), -1)\n",
        "\n",
        "      # Find the relative position\n",
        "      g_xpos = (b_irange[0] % self.G_SIZE) / self.G_SIZE\n",
        "      g_ypos = (b_irange[1] % self.G_SIZE) / self.G_SIZE\n",
        "\n",
        "      # The label - First position is 1 for circles\n",
        "      labels[s, g_x, g_y] = [g_xpos, g_ypos, bbox[2], bbox[3], 1, 0, 0]\n",
        "\n",
        "  def addRectangle(self, img, labels, s):\n",
        "    # Rectangles - 2 points and a colour   \n",
        "\n",
        "    # Constansts for rectangles\n",
        "    MIN_R_SIZE = 20\n",
        "    MAX_R_SIZE = 41\n",
        "    r_size = np.random.randint(low=MIN_R_SIZE, high=MAX_R_SIZE)\n",
        "\n",
        "    r_pt1 = (np.random.randint(low=r_size, high=self.img_size[0]-r_size), np.random.randint(low=r_size, high=self.img_size[1]-r_size))\n",
        "    r_pt2 = (np.random.randint(low=r_size, high=self.img_size[0]-r_size), np.random.randint(low=r_size, high=self.img_size[1]-r_size))\n",
        "\n",
        "    # For the rectangle, the bounding box is also simple\n",
        "    r_min_x = np.min([r_pt1[0], r_pt2[0]])\n",
        "    r_max_x = np.max([r_pt1[0], r_pt2[0]])\n",
        "    r_min_y = np.min([r_pt1[1], r_pt2[1]])\n",
        "    r_max_y = np.max([r_pt1[1], r_pt2[1]])\n",
        "\n",
        "    bbox = ((r_max_x-r_min_x) / 2., (r_max_y-r_min_y) / 2., (r_max_x-r_min_x)/self.img_size[0], (r_max_y-r_min_y)/self.img_size[1])\n",
        "\n",
        "    #Find the grid cell of this object\n",
        "    g_x = (bbox[0] + r_min_x) // self.G_SIZE\n",
        "    g_y = (bbox[1] + r_min_y) // self.G_SIZE\n",
        "\n",
        "    # We only draw if there is no object in that grid cell already and the area of the rectangle is reasonable (0.01 here)\n",
        "    if np.sum(labels[s, int(g_x), int(g_y), 4:]) == 0 and bbox[2] * bbox[3] > 0.01:\n",
        "      img = cv.rectangle(img, r_pt1, r_pt2, (np.random.uniform(0.5, 0.7), np.random.uniform(0.5, 0.7), np.random.uniform(0.5, 0.7)), -1)\n",
        "\n",
        "      # Find the relative position\n",
        "      g_xpos = ((bbox[0] + r_min_x) % self.G_SIZE) / self.G_SIZE\n",
        "      g_ypos = ((bbox[1] + r_min_y) % self.G_SIZE) / self.G_SIZE\n",
        "\n",
        "      # The label - Second position is 1 for circles\n",
        "      labels[s, int(g_x), int(g_y)] = [g_xpos, g_ypos, bbox[2], bbox[3], 0, 1, 0]\n",
        "\n",
        "  def plotImg(self, img, label):\n",
        "    major_ticks = np.arange(self.G_SIZE, self.img_size[0], self.G_SIZE)\n",
        "\n",
        "    fig = plt.figure(figsize=(7,7))\n",
        "    ax = fig.add_subplot(1, 1, 1)\n",
        "\n",
        "    ax.set_xticks(major_ticks)\n",
        "    ax.set_yticks(major_ticks)\n",
        "\n",
        "    plt.imshow(img)\n",
        "    plt.grid(True)\n",
        "\n",
        "    obs = np.where(np.sum(label[:, :, 4:], axis=-1) > 0)\n",
        "\n",
        "    for s in range(obs[0].shape[0]):\n",
        "      g_x=obs[0][s]\n",
        "      g_y=obs[1][s]\n",
        "\n",
        "      s_label = label[g_x, g_y]\n",
        "\n",
        "      obj_c = (g_x*self.G_SIZE+self.G_SIZE*s_label[0], g_y*self.G_SIZE+self.G_SIZE*s_label[1])\n",
        "\n",
        "      plt.plot(obj_c[0], obj_c[1], 'x')\n",
        "\n",
        "      ax.add_patch(Rectangle((obj_c[0]-(s_label[2]*self.img_size[0])/2., obj_c[1]-s_label[3]*self.img_size[1]/2.), \n",
        "                            s_label[2]*self.img_size[0], s_label[3]*self.img_size[1], color = 'c', alpha=1, fill=False))\n"
      ],
      "execution_count": 3,
      "outputs": []
    },
    {
      "cell_type": "code",
      "metadata": {
        "id": "m6B7P5JIzvGU"
      },
      "source": [
        "NUM_SAMP = 3000\n",
        "S = 7\n",
        "B = 2\n",
        "\n",
        "X_data = yoloGenerator(NUM_SAMP, S, B, img_size=(448, 448, 3), batch_size=16)"
      ],
      "execution_count": 7,
      "outputs": []
    },
    {
      "cell_type": "code",
      "metadata": {
        "colab": {
          "base_uri": "https://localhost:8080/",
          "height": 428
        },
        "id": "7gOr_uVE1IRV",
        "outputId": "3710ba52-97d6-49f6-afe2-e3aa5159b0ee"
      },
      "source": [
        "# Plot an example\n",
        "for s_samp in X_data.img_ls_b.take(1):\n",
        "  X_data.plotImg(s_samp[0][0, :, :, :], s_samp[1][0, :, :, :])"
      ],
      "execution_count": 8,
      "outputs": [
        {
          "output_type": "display_data",
          "data": {
            "image/png": "[encoded data removed]",
            "text/plain": [
              "<Figure size 504x504 with 1 Axes>"
            ]
          },
          "metadata": {
            "tags": [],
            "needs_background": "light"
          }
        }
      ]
    },
    {
      "cell_type": "code",
      "metadata": {
        "id": "Fy9rhU638b5-"
      },
      "source": [
        "from tensorflow.keras.applications.resnet import ResNet101\n",
        "# The model\n",
        "\n",
        "# 1 - Divide image into S x S grid\n",
        "# 2 - For each grid cell, detect an object and predict its bounding box\n",
        "#      - Each grid cell predicts B bounding boxes and confidence scores\n",
        "#      - Confidence = Pr(Object) * IOU{truth/pred}.  This should be 0 when no\n",
        "#        Object is present and the IOU when one is present\n",
        "#      - Each bounding box predicts x, y, w, h and C, where x, y is the center\n",
        "#        prediction of the bounding box relative to the bounds of the grid cell\n",
        "#        (percentage of grid cell size) and w, h are predicted relative to the \n",
        "#        entire image (percentages).  I think it makes the loss function \n",
        "#        simpler to have all values between 0 and 1.  It also normalizes the \n",
        "#        values so they all have equal weight in the loss function.\n",
        "# 3 - Each grid cell predicts C conditional class probabilities\n",
        "#   Pr(Class(i)|Object).  If the grid contains an object, it predicts a class. \n",
        "#   This is only done once per grid cell, regardless of the number of bounding \n",
        "#   boxes B.  It does seem like this could be a softmax instead, but they are \n",
        "#   just predicting independent probabilities and using MSE to calculate the \n",
        "#   loss.\n",
        "#      - At test time, we can therefore multiple Pr(Class(i)|Object) * \n",
        "#        Pr(Object) * IOU{truth/pred} = Pr(Class(i)) * IOU{truth/pred}.  Which \n",
        "#        are class specific confidence sscores for each bounding box. \n",
        "#        IOU{truth/pred} are probabilities as well as they are bounded [0, 1]\n",
        "\n",
        "# The output of the model should be a tensor of size S * S * (B * 5 + C).  This \n",
        "# 5 values per bounding box + C class probabilites all per grid cell\n",
        "\n",
        "# The model is super simple.  Use some kind of convolution network to extract \n",
        "# the features and use a FCN top level to generate the prediction tensor.  I \n",
        "# think just a pre-trained ResNet with some extra convolution layers and a FCN \n",
        "# top layer should work reasonably well.  The last layer has no activation \n",
        "# function to allow it to predict the complete range of bounding box and \n",
        "# confidence intervals without asymptotes.\n",
        "\n",
        "class YOLOv1(tf.keras.Model):\n",
        "  def __init__(self, S, B, num_classes, img_size, rate=0.5):\n",
        "    super(YOLOv1, self).__init__()\n",
        "\n",
        "    # The output tensor - See Figure 2 of the paper and the paragraph just\n",
        "    # underneath\n",
        "    self.S = S\n",
        "    self.B = B\n",
        "    self.num_classes = num_classes\n",
        "\n",
        "    self.rate = rate\n",
        "\n",
        "    self.output_size = (S*S*(B*5+num_classes))\n",
        "\n",
        "    # TODO: Data augmentation should go here, but will have to also adjust the \n",
        "    # bounding boxes in that case?  I don't think I will implement it for this \n",
        "    # little test case, but that would certainly be necessary for a robust \n",
        "    # object segmentation model\n",
        "\n",
        "    # The hybrid model includes a partial ResNet as a prenet.  I cut it off at \n",
        "    # layer 3 and allow that last layer to still be trainable.  This scales \n",
        "    # everything down for cifar-10.\n",
        "    base_model = ResNet101(weights='imagenet', include_top=False, pooling='avg', input_shape=(img_size[0], img_size[1], 3))\n",
        "    for layer in base_model.layers:\n",
        "      layer.trainable = True\n",
        "    #for layer in base_model.layers[39:]:\n",
        "    #  layer.trainable = True\n",
        "\n",
        "    self.prenet = tf.keras.models.Model(inputs=base_model.input, outputs=base_model.get_layer('conv2_block2_out').output)\n",
        "\n",
        "    #self.tokenizer = tf.keras.layers.Conv2D(filters=d_model, kernel_size=1, strides=1, padding='valid')\n",
        "\n",
        "    #self.glob_avg = tf.keras.layers.GlobalAveragePooling1D()\n",
        "\n",
        "    # These layers will just bring us down to a 7x7 matrix from the original\n",
        "    # ResNet.  We could make this more generic though.  It doesn't have to be \n",
        "    # so complicated\n",
        "    self.conv1 = tf.keras.layers.Conv2D(filters=512, kernel_size=1, strides=1, padding='valid')\n",
        "    self.conv2 = tf.keras.layers.Conv2D(filters=1024, kernel_size=3, strides=2, padding='same')\n",
        "    self.conv3 = tf.keras.layers.Conv2D(filters=1024, kernel_size=3, strides=2, padding='same')\n",
        "    self.conv4 = tf.keras.layers.Conv2D(filters=1024, kernel_size=3, strides=2, padding='same') \n",
        "    self.conv5 = tf.keras.layers.Conv2D(filters=1024, kernel_size=3, strides=2, padding='same')\n",
        "\n",
        "    # Now a FCN to allow some cross talk between features (I think it's\n",
        "    # important to have this layer in here and not just continue to reduce \n",
        "    # down to output tensor.  This layer allows a higher level of complexity \n",
        "    # and capacity in the output space.)\n",
        "\n",
        "    # We use 4096 just like the paper\n",
        "    self.int_layer = tf.keras.layers.Dense(4096, activation=tf.keras.layers.LeakyReLU(alpha=0.01), name='intlayer')\n",
        "\n",
        "    self.d1 = tf.keras.layers.Dropout(self.rate)\n",
        "\n",
        "    self.final_layer = tf.keras.layers.Dense(self.output_size, activation='linear', name='classes')\n",
        "\n",
        "  def call(self, inp, training):\n",
        "    x = self.prenet(inp)\n",
        "\n",
        "    # Not the exact architecture of the paper, but we will apply some \n",
        "    # convolutions after the ResNet to be somewhat consistent\n",
        "    x = self.conv1(x)\n",
        "    x = self.conv2(x)\n",
        "    x = self.conv3(x)\n",
        "    x = self.conv4(x)    \n",
        "    x = self.conv5(x)\n",
        "\n",
        "    x = tf.keras.layers.Flatten()(x)\n",
        "\n",
        "    x = self.int_layer(x)\n",
        "\n",
        "    x = self.d1(x)\n",
        "\n",
        "    final_output = self.final_layer(x)\n",
        "\n",
        "    # Reshape to the output tensor\n",
        "    final_output = tf.reshape(final_output, [-1, self.S, self.S, self.B*5+self.num_classes])\n",
        "\n",
        "    return final_output"
      ],
      "execution_count": 10,
      "outputs": []
    },
    {
      "cell_type": "code",
      "metadata": {
        "id": "_yZgRk2oN77H",
        "colab": {
          "base_uri": "https://localhost:8080/"
        },
        "outputId": "a45e5672-ff08-41cf-e674-656540193e06"
      },
      "source": [
        "# Let's test out YOLOv1 on a simple example first\n",
        "dropout_rate = 0.5\n",
        "\n",
        "yolo_model = YOLOv1(X_data.S, X_data.B, X_data.C, X_data.img_size, dropout_rate)\n",
        "\n",
        "byte_samp = tf.random.normal((2, X_data.img_size[0], X_data.img_size[1], 3))\n",
        "\n",
        "y_pred = yolo_model(byte_samp, True)\n",
        "\n",
        "y_pred.shape"
      ],
      "execution_count": 11,
      "outputs": [
        {
          "output_type": "stream",
          "text": [
            "Downloading data from https://storage.googleapis.com/tensorflow/keras-applications/resnet/resnet101_weights_tf_dim_ordering_tf_kernels_notop.h5\n",
            "171450368/171446536 [==============================] - 2s 0us/step\n"
          ],
          "name": "stdout"
        },
        {
          "output_type": "execute_result",
          "data": {
            "text/plain": [
              "TensorShape([2, 7, 7, 13])"
            ]
          },
          "metadata": {
            "tags": []
          },
          "execution_count": 11
        }
      ]
    },
    {
      "cell_type": "code",
      "metadata": {
        "id": "b7-0OuFqlWWW"
      },
      "source": [
        "# The loss function\n",
        "# Inputs will be ypred, ytruth (a ragged tensor containing bounding boxes \n",
        "# and corresponding class value so Nx5 array, where the are N bounding boxes)\n",
        "\n",
        "# ypred has 3D shape SxSx(B*5+C)\n",
        "\n",
        "# lambda_coord = regularization parameter to weight coordinates heavily when an\n",
        "# object is present\n",
        "\n",
        "# lambda_noobj = regularization parameter to weight IOU predictions less when \n",
        "# no object is present so that the network doesn't immediately predict zero \n",
        "# confidence for every grid cell and promotes better training\n",
        "\n",
        "# for every grid cell in SxS\n",
        "#   Split ypred at this grid cell location into B*5 values and C values\n",
        "#   If there an object in this grid\n",
        "#     Compute x_truth, y_truth in relative coordinates to the grid cell bounds\n",
        "#     Compute IOU for each B - This is C_truth - Computed by creating a mask \n",
        "#       for the original bounding box and a mask for each predicted B and then \n",
        "#       logically comparing them\n",
        "#     for the max IOU\n",
        "#       loss = lambda_coord * MSE in x\n",
        "#       loss += lambda_coord * MSE in sqrt(w) + MSE in sqrt(h)\n",
        "#       loss += SE in IOU\n",
        "#       loss += SE in class probabilities for each class\n",
        "#   else\n",
        "#     loss = lambda_noobj * SE in IOU (IOU_truth is 0 when no object) - we want \n",
        "#       these all to go to zero so we can threshold them out later in the \n",
        "#       testing phase\n",
        "\n",
        "# We can't use flow control statements in the loss function so we will need\n",
        "# to be creative to vectorize this\n",
        "# The target tensor will be SxSx5 for each image so we can create object and\n",
        "# no object masks to create the loss function in a vectorized form and not \n",
        "# require for loops and if statements\n",
        "\n",
        "EPS = 0.0000001\n",
        "\n",
        "LAMBDA_COORD = 5.\n",
        "LAMBDA_NOOBJ = 0.5\n",
        "\n",
        "B = X_data.B\n",
        "C = X_data.C\n",
        "\n",
        "def my_loss_fun_YOLOv1(y_true, y_pred):\n",
        "  # y_true has shape SxSx(4+C) - the 4 numbers are x, y, w, h and the C should \n",
        "  # be a probability array of the number of classes I think\n",
        "  # y_pred has shape SxSx(B*5+C) - The same 4 numbers * B bounding boxes with \n",
        "  # the confidence score being the 5th here.  C is also the probability of each\n",
        "  # class\n",
        "\n",
        "  # The first thing we need is to know the IOU of each B when a cell has an\n",
        "  # object\n",
        "\n",
        "  # Tile the values in y_true so we can broadcast compute every IOU in the grid\n",
        "  # at once\n",
        "  y_true_all = y_true[:, :, :, :4]\n",
        "  y_true_bbox = tf.tile(y_true_all, [1,1,1, B])\n",
        "  y_true_bbox = tf.reshape(y_true_bbox, [-1, S, S, B, 4])\n",
        "\n",
        "  # I really think, if the model has no activation function in the last layer,\n",
        "  # that we have to exp the result to get values only between 0 and 1.  I \n",
        "  # verified this with a Google search.\n",
        "  y_pred = tf.exp(y_pred)\n",
        "\n",
        "  y_pred = tf.clip_by_value(y_pred, EPS, np.inf)\n",
        "\n",
        "  # y_pred should match\n",
        "  y_pred_all = y_pred[:, :, :, :B*5]\n",
        "  y_pred_all = tf.reshape(y_pred_all, [-1, S, S, B, 5])\n",
        "  y_pred_all = y_pred_all[:, :, :, :, :5]\n",
        "\n",
        "  y_pred_bbox = y_pred_all[:, :, :, :, :4]\n",
        "\n",
        "  # now compute IOU of every grid cell (even though we will only end up using\n",
        "  # the ones where an object is present?)  The IOU of all non-object grid cells \n",
        "  # must be zero because the intersection of a bounding box with an empty set \n",
        "  # is empty.\n",
        "\n",
        "  # first convert them all to proper bounding boxes [x1, y1, x2, y2]\n",
        "  bbox1 = tf.stack([y_pred_bbox[:, :, :, :, 0] - y_pred_bbox[:, :, :, :, 2] / 2., \n",
        "          y_pred_bbox[:, :, :, :, 1] - y_pred_bbox[:, :, :, :, 3] / 2.,\n",
        "          y_pred_bbox[:, :, :, :, 0] + y_pred_bbox[:, :, :, :, 2] / 2.,\n",
        "          y_pred_bbox[:, :, :, :, 1] + y_pred_bbox[:, :, :, :, 3] / 2.], axis=-1)\n",
        "\n",
        "  bbox2 = tf.stack([y_true_bbox[:, :, :, :, 0] - y_true_bbox[:, :, :, :, 2] / 2., \n",
        "          y_true_bbox[:, :, :, :, 1] - y_true_bbox[:, :, :, :, 3] / 2.,\n",
        "          y_true_bbox[:, :, :, :, 0] + y_true_bbox[:, :, :, :, 2] / 2.,\n",
        "          y_true_bbox[:, :, :, :, 1] + y_true_bbox[:, :, :, :, 3] / 2.], axis=-1)          \n",
        "\n",
        "  xI1 = tf.maximum(bbox1[:, :, :, :, 0], bbox2[:, :, :, :, 0])\n",
        "  yI1 = tf.maximum(bbox1[:, :, :, :, 1], bbox2[:, :, :, :, 1])\n",
        "  xI2 = tf.minimum(bbox1[:, :, :, :, 2], bbox2[:, :, :, :, 2])\n",
        "  yI2 = tf.minimum(bbox1[:, :, :, :, 3], bbox2[:, :, :, :, 3])\n",
        "\n",
        "  # The intersection of the two bounding boxes.  The + 1. is because of the \n",
        "  # pixel space including both extremes\n",
        "  AoI = tf.maximum(0., xI2 - xI1 + 1.) * tf.maximum(0., yI2 - yI1 + 1.)\n",
        "\n",
        "  # Now calculate the areas of each bbox\n",
        "  Abbox1 = (bbox1[:, :, :, :, 2] - bbox1[:, :, :, :, 0] + 1.) * (bbox1[:, :, :, :, 3] - bbox1[:, :, :, :, 1] + 1.)\n",
        "  Abbox2 = (bbox2[:, :, :, :, 2] - bbox2[:, :, :, :, 0] + 1.) * (bbox2[:, :, :, :, 3] - bbox2[:, :, :, :, 1] + 1.)\n",
        "\n",
        "  IoU = AoI / (Abbox1 + Abbox2 - AoI)\n",
        "\n",
        "  # We will need the best IoU later\n",
        "  best_IoU = tf.math.reduce_max(IoU, -1)\n",
        "\n",
        "  IoU = tf.expand_dims(IoU, -1)\n",
        "\n",
        "\n",
        "  # We want to know the max bounding box for each IoU - this one is responsible \n",
        "  # for prediction in that grid cell\n",
        "  IoU_resp = tf.argsort(IoU, axis=-2, direction='DESCENDING')\n",
        "\n",
        "  # This is super complicated in tensorflow, but to get the last dimension of\n",
        "  # values intact, we treat the batches and grid as a batch dimensions and\n",
        "  # sort on the next to last dimension.  Now the box paramaters in the last\n",
        "  # dimension will be sorted by IoU value.\n",
        "  y_pred_best = tf.gather_nd(y_pred_all, IoU_resp, batch_dims=3)\n",
        "  y_pred_best = y_pred_best[:, :, :, 0, :]\n",
        "\n",
        "  # y_pred_best now contains the 5 values for the highest IOU in each grid cell\n",
        "  # Now we can start to compile the 5 part loss\n",
        "\n",
        "  # We need to know which cells have objects as well.  This is true if any of \n",
        "  # C are 1\n",
        "  obj_mask = tf.where(tf.reduce_sum(y_true[:, :, :, 4:], -1) > 0, 1., 0.)\n",
        "  nobj_mask = 1. - obj_mask\n",
        "\n",
        "  # the position\n",
        "  loss1 = tf.pow((y_true[:, :, :, 0] - y_pred_best[:, :, :, 0]), 2) + tf.pow((y_true[:, :, :, 1] - y_pred_best[:, :, :, 1]), 2)\n",
        "  #print(loss1.shape)\n",
        "  loss1 = tf.reduce_sum(tf.reduce_sum(loss1 * obj_mask, -1), -1)\n",
        "\n",
        "  # the width and height\n",
        "  loss2 = tf.pow((tf.sqrt(y_true[:, :, :, 2]) - tf.sqrt(y_pred_best[:, :, :, 2])), 2) + tf.pow((tf.sqrt(y_true[:, :, :, 3]) - tf.sqrt(y_pred_best[:, :, :, 3])), 2)\n",
        "  loss2 = tf.reduce_sum(tf.reduce_sum(loss2 * obj_mask, -1), -1)\n",
        "\n",
        "  # the Confidence in objects - This isn't super clear in the paper. They say\n",
        "  # that the confidence score should equal the IOU of the best prediction.  I \n",
        "  # have seen it implemented as a 1 or 0 though as well to predict the\n",
        "  # existence of an object.  I think it should be compared to the true IOU \n",
        "  # though, as in the paper, as we want it to reflect real confidence, which \n",
        "  # will increase as IOU increases, and IOU will only increase if the previous\n",
        "  # 2 losses converge on the real box as well.\n",
        "  loss3 = tf.pow((best_IoU - y_pred_best[:, :, :, 4]),  2)\n",
        "  loss3 = tf.reduce_sum(tf.reduce_sum(loss3 * obj_mask, -1), -1)\n",
        "  \n",
        "  # The Confidence in non-objects.  I assume this should just be 0.  There is \n",
        "  # no point in comparing to the true label because that value is 0.  We want\n",
        "  # the last value of y_pred_best to be 0 basically.  The IoU of all of those \n",
        "  # scores should be zero, because there is no true box.  Because of the way \n",
        "  # IoU is calculated, if it's one pixel, we can can still get a IoU score,\n",
        "  # even though it doesn't exist (i.e., when the true box is 0,0,0,0, that is \n",
        "  # assumed to be one pixel and has an area of 1, but we will just make that \n",
        "  # zero for the purposes of this loss)\n",
        "  loss4 = tf.pow((y_pred_best[:, :, :, 4]), 2)\n",
        "  loss4 = tf.reduce_sum(tf.reduce_sum(loss4 * nobj_mask, -1), -1)\n",
        "\n",
        "  # The class loss.  Here we assume the true values will be tacked onto the \n",
        "  # end as y_true[:, :, :, 4:] with one-hot for the value of the object in that \n",
        "  # grid cell.  The prediction will also then be one-hot in the prediction \n",
        "  # array.  For now we only have one class (circles)\n",
        "  loss5 = tf.pow((y_true[:, :, :, 4:] - y_pred[:, :, :, B*5:]), 2)\n",
        "\n",
        "  loss5 = tf.reduce_sum(tf.reduce_sum(tf.reduce_sum(loss5, -1)  * obj_mask, -1), -1)\n",
        "  \n",
        "  tot_loss = LAMBDA_COORD * loss1 + LAMBDA_COORD * loss2 + loss3 + LAMBDA_NOOBJ * loss4 + loss5\n",
        "\n",
        "  return(tot_loss)"
      ],
      "execution_count": 12,
      "outputs": []
    },
    {
      "cell_type": "code",
      "metadata": {
        "colab": {
          "base_uri": "https://localhost:8080/"
        },
        "id": "a9DNLch1G0tE",
        "outputId": "db63102f-9884-4e82-e871-5fb54697ca4b"
      },
      "source": [
        "# Test out the loss function\n",
        "# y_true will be our labels we created\n",
        "\n",
        "y_true = s_samp[1][:2, :]\n",
        "\n",
        "y_pred_test = tf.random.normal((2, S, S, B*5+X_data.C), 0,)\n",
        "\n",
        "my_loss_fun_YOLOv1(y_true, y_pred_test)"
      ],
      "execution_count": 13,
      "outputs": [
        {
          "output_type": "execute_result",
          "data": {
            "text/plain": [
              "<tf.Tensor: shape=(2,), dtype=float32, numpy=array([422.54977, 223.20264], dtype=float32)>"
            ]
          },
          "metadata": {
            "tags": []
          },
          "execution_count": 13
        }
      ]
    },
    {
      "cell_type": "code",
      "metadata": {
        "id": "5wHuy-kaEPnu"
      },
      "source": [
        "X_train = X_data.img_ls_b.take(round(NUM_SAMP/X_data.batch_size*0.90)) \n",
        "X_test = X_data.img_ls_b.skip(round(NUM_SAMP/X_data.batch_size*0.10))"
      ],
      "execution_count": 14,
      "outputs": []
    },
    {
      "cell_type": "code",
      "metadata": {
        "id": "LfxIolElSA_P"
      },
      "source": [
        "def scheduler(epoch, lr):\n",
        "  if epoch <= 75:\n",
        "    return lr\n",
        "  else:\n",
        "    return lr * tf.math.exp(-0.1)"
      ],
      "execution_count": 15,
      "outputs": []
    },
    {
      "cell_type": "code",
      "metadata": {
        "colab": {
          "base_uri": "https://localhost:8080/",
          "height": 1000
        },
        "id": "5yWNV-m8KM8P",
        "outputId": "b5ec974e-bbef-420c-a0ae-6e556b9d7241"
      },
      "source": [
        "# Now we can train.\n",
        "# TODO: Create a custom MAP metric when we have multiple classes\n",
        "#import tensorflow_addons as tfa\n",
        "\n",
        "learning_rate = 0.00001\n",
        "\n",
        "callback = tf.keras.callbacks.LearningRateScheduler(scheduler)\n",
        "\n",
        "#optimizer = tfa.optimizers.AdamW(learning_rate=learning_rate, weight_decay=1e-5, beta_1=0.9, beta_2=0.98, epsilon=1e-9)\n",
        "optimizer = tf.keras.optimizers.Adam(learning_rate=learning_rate, beta_1=0.9, beta_2=0.98, epsilon=1e-9)\n",
        "\n",
        "yolo_model.compile(optimizer=optimizer, loss=my_loss_fun_YOLOv1)\n",
        "history = yolo_model.fit(X_train.prefetch(tf.data.experimental.AUTOTUNE), validation_data=X_test.prefetch(tf.data.experimental.AUTOTUNE), epochs=100, verbose=1, callbacks=[callback])"
      ],
      "execution_count": 16,
      "outputs": [
        {
          "output_type": "stream",
          "text": [
            "Epoch 1/100\n",
            "169/169 [==============================] - 126s 707ms/step - loss: 103.8018 - val_loss: 8.8837\n",
            "Epoch 2/100\n",
            "169/169 [==============================] - 119s 706ms/step - loss: 19.1579 - val_loss: 6.5986\n",
            "Epoch 3/100\n",
            "169/169 [==============================] - 119s 703ms/step - loss: 20.2860 - val_loss: 6.1568\n",
            "Epoch 4/100\n",
            "169/169 [==============================] - 119s 703ms/step - loss: 12.6024 - val_loss: 5.7673\n",
            "Epoch 5/100\n",
            "169/169 [==============================] - 121s 716ms/step - loss: 9.7192 - val_loss: 5.1428\n",
            "Epoch 6/100\n",
            "169/169 [==============================] - 119s 705ms/step - loss: 8.4054 - val_loss: 4.8647\n",
            "Epoch 7/100\n",
            "169/169 [==============================] - 119s 703ms/step - loss: 7.1393 - val_loss: 4.4057\n",
            "Epoch 8/100\n",
            "169/169 [==============================] - 119s 703ms/step - loss: 6.6635 - val_loss: 4.0957\n",
            "Epoch 9/100\n",
            "169/169 [==============================] - 119s 704ms/step - loss: 5.9335 - val_loss: 4.0906\n",
            "Epoch 10/100\n",
            "169/169 [==============================] - 119s 704ms/step - loss: 5.9297 - val_loss: 3.6465\n",
            "Epoch 11/100\n",
            "169/169 [==============================] - 119s 703ms/step - loss: 5.3272 - val_loss: 3.5701\n",
            "Epoch 12/100\n",
            "169/169 [==============================] - 119s 702ms/step - loss: 4.9394 - val_loss: 3.3203\n",
            "Epoch 13/100\n",
            "169/169 [==============================] - 119s 704ms/step - loss: 4.6362 - val_loss: 3.3222\n",
            "Epoch 14/100\n",
            "169/169 [==============================] - 119s 703ms/step - loss: 4.2436 - val_loss: 3.1355\n",
            "Epoch 15/100\n",
            "169/169 [==============================] - 119s 704ms/step - loss: 4.2150 - val_loss: 3.0030\n",
            "Epoch 16/100\n",
            "169/169 [==============================] - 119s 704ms/step - loss: 3.9686 - val_loss: 2.9381\n",
            "Epoch 17/100\n",
            "169/169 [==============================] - 119s 705ms/step - loss: 3.8604 - val_loss: 2.8234\n",
            "Epoch 18/100\n",
            "169/169 [==============================] - 119s 703ms/step - loss: 3.6382 - val_loss: 2.8378\n",
            "Epoch 19/100\n",
            "169/169 [==============================] - 118s 702ms/step - loss: 3.6401 - val_loss: 2.7325\n",
            "Epoch 20/100\n",
            "169/169 [==============================] - 119s 705ms/step - loss: 3.4479 - val_loss: 2.6216\n",
            "Epoch 21/100\n",
            "169/169 [==============================] - 119s 703ms/step - loss: 3.3738 - val_loss: 2.6557\n",
            "Epoch 22/100\n",
            "169/169 [==============================] - 119s 702ms/step - loss: 3.2721 - val_loss: 2.5183\n",
            "Epoch 23/100\n",
            "169/169 [==============================] - 119s 703ms/step - loss: 3.1406 - val_loss: 2.4503\n",
            "Epoch 24/100\n",
            "169/169 [==============================] - 119s 704ms/step - loss: 3.0701 - val_loss: 2.4072\n",
            "Epoch 25/100\n",
            "169/169 [==============================] - 125s 740ms/step - loss: 2.9695 - val_loss: 2.2898\n",
            "Epoch 26/100\n",
            "169/169 [==============================] - 125s 741ms/step - loss: 2.9161 - val_loss: 2.3066\n",
            "Epoch 27/100\n",
            "169/169 [==============================] - 125s 739ms/step - loss: 2.8519 - val_loss: 2.2097\n",
            "Epoch 28/100\n",
            "169/169 [==============================] - 125s 742ms/step - loss: 2.7341 - val_loss: 2.1640\n",
            "Epoch 29/100\n",
            "169/169 [==============================] - 125s 742ms/step - loss: 2.6787 - val_loss: 2.1605\n",
            "Epoch 30/100\n",
            "169/169 [==============================] - 125s 741ms/step - loss: 2.6073 - val_loss: 2.0588\n",
            "Epoch 31/100\n",
            "169/169 [==============================] - 125s 742ms/step - loss: 2.5558 - val_loss: 2.0544\n",
            "Epoch 32/100\n",
            "169/169 [==============================] - 125s 742ms/step - loss: 2.4923 - val_loss: 1.9740\n",
            "Epoch 33/100\n",
            "169/169 [==============================] - 125s 742ms/step - loss: 2.4476 - val_loss: 2.0172\n",
            "Epoch 34/100\n",
            "169/169 [==============================] - 125s 741ms/step - loss: 2.4060 - val_loss: 2.0035\n",
            "Epoch 35/100\n",
            "169/169 [==============================] - 125s 743ms/step - loss: 2.3712 - val_loss: 1.9102\n",
            "Epoch 36/100\n",
            "169/169 [==============================] - 125s 741ms/step - loss: 2.3259 - val_loss: 1.8676\n",
            "Epoch 37/100\n",
            "169/169 [==============================] - 125s 740ms/step - loss: 2.2795 - val_loss: 1.8514\n",
            "Epoch 38/100\n",
            "169/169 [==============================] - 125s 741ms/step - loss: 2.2065 - val_loss: 1.8127\n",
            "Epoch 39/100\n",
            "169/169 [==============================] - 125s 740ms/step - loss: 2.1895 - val_loss: 1.8056\n",
            "Epoch 40/100\n",
            "169/169 [==============================] - 125s 740ms/step - loss: 2.1566 - val_loss: 1.8301\n",
            "Epoch 41/100\n",
            "169/169 [==============================] - 125s 740ms/step - loss: 2.1187 - val_loss: 1.7858\n",
            "Epoch 42/100\n",
            "169/169 [==============================] - 125s 742ms/step - loss: 2.0833 - val_loss: 1.7358\n",
            "Epoch 43/100\n",
            "169/169 [==============================] - 125s 741ms/step - loss: 2.0546 - val_loss: 1.7795\n",
            "Epoch 44/100\n",
            "169/169 [==============================] - 125s 742ms/step - loss: 2.0349 - val_loss: 1.6350\n",
            "Epoch 45/100\n",
            "169/169 [==============================] - 125s 741ms/step - loss: 1.9998 - val_loss: 1.6645\n",
            "Epoch 46/100\n",
            "169/169 [==============================] - 125s 741ms/step - loss: 1.9744 - val_loss: 1.6267\n",
            "Epoch 47/100\n",
            "169/169 [==============================] - 125s 741ms/step - loss: 1.9518 - val_loss: 1.6089\n",
            "Epoch 48/100\n",
            "169/169 [==============================] - 125s 739ms/step - loss: 1.9240 - val_loss: 1.5321\n",
            "Epoch 49/100\n",
            "169/169 [==============================] - 125s 741ms/step - loss: 1.8896 - val_loss: 1.5967\n",
            "Epoch 50/100\n",
            "169/169 [==============================] - 125s 741ms/step - loss: 1.8681 - val_loss: 1.4836\n",
            "Epoch 51/100\n",
            "169/169 [==============================] - 125s 738ms/step - loss: 1.8661 - val_loss: 1.5057\n",
            "Epoch 52/100\n",
            "169/169 [==============================] - 125s 742ms/step - loss: 1.8341 - val_loss: 1.4710\n",
            "Epoch 53/100\n",
            "169/169 [==============================] - 125s 741ms/step - loss: 1.7867 - val_loss: 1.4721\n",
            "Epoch 54/100\n",
            "169/169 [==============================] - 125s 742ms/step - loss: 1.7926 - val_loss: 1.4526\n",
            "Epoch 55/100\n",
            "169/169 [==============================] - 125s 742ms/step - loss: 1.7453 - val_loss: 1.4026\n",
            "Epoch 56/100\n",
            "169/169 [==============================] - 125s 741ms/step - loss: 1.7400 - val_loss: 1.4103\n",
            "Epoch 57/100\n",
            "169/169 [==============================] - 125s 740ms/step - loss: 1.7283 - val_loss: 1.4570\n",
            "Epoch 58/100\n",
            " 60/169 [=========>....................] - ETA: 56s - loss: 1.7302"
          ],
          "name": "stdout"
        },
        {
          "output_type": "error",
          "ename": "KeyboardInterrupt",
          "evalue": "ignored",
          "traceback": [
            "\u001b[0;31m---------------------------------------------------------------------------\u001b[0m",
            "\u001b[0;31mKeyboardInterrupt\u001b[0m                         Traceback (most recent call last)",
            "\u001b[0;32m<ipython-input-16-fbe7f2e24543>\u001b[0m in \u001b[0;36m<module>\u001b[0;34m()\u001b[0m\n\u001b[1;32m     11\u001b[0m \u001b[0;34m\u001b[0m\u001b[0m\n\u001b[1;32m     12\u001b[0m \u001b[0myolo_model\u001b[0m\u001b[0;34m.\u001b[0m\u001b[0mcompile\u001b[0m\u001b[0;34m(\u001b[0m\u001b[0moptimizer\u001b[0m\u001b[0;34m=\u001b[0m\u001b[0moptimizer\u001b[0m\u001b[0;34m,\u001b[0m \u001b[0mloss\u001b[0m\u001b[0;34m=\u001b[0m\u001b[0mmy_loss_fun_YOLOv1\u001b[0m\u001b[0;34m)\u001b[0m\u001b[0;34m\u001b[0m\u001b[0;34m\u001b[0m\u001b[0m\n\u001b[0;32m---> 13\u001b[0;31m \u001b[0mhistory\u001b[0m \u001b[0;34m=\u001b[0m \u001b[0myolo_model\u001b[0m\u001b[0;34m.\u001b[0m\u001b[0mfit\u001b[0m\u001b[0;34m(\u001b[0m\u001b[0mX_train\u001b[0m\u001b[0;34m.\u001b[0m\u001b[0mprefetch\u001b[0m\u001b[0;34m(\u001b[0m\u001b[0mtf\u001b[0m\u001b[0;34m.\u001b[0m\u001b[0mdata\u001b[0m\u001b[0;34m.\u001b[0m\u001b[0mexperimental\u001b[0m\u001b[0;34m.\u001b[0m\u001b[0mAUTOTUNE\u001b[0m\u001b[0;34m)\u001b[0m\u001b[0;34m,\u001b[0m \u001b[0mvalidation_data\u001b[0m\u001b[0;34m=\u001b[0m\u001b[0mX_test\u001b[0m\u001b[0;34m.\u001b[0m\u001b[0mprefetch\u001b[0m\u001b[0;34m(\u001b[0m\u001b[0mtf\u001b[0m\u001b[0;34m.\u001b[0m\u001b[0mdata\u001b[0m\u001b[0;34m.\u001b[0m\u001b[0mexperimental\u001b[0m\u001b[0;34m.\u001b[0m\u001b[0mAUTOTUNE\u001b[0m\u001b[0;34m)\u001b[0m\u001b[0;34m,\u001b[0m \u001b[0mepochs\u001b[0m\u001b[0;34m=\u001b[0m\u001b[0;36m100\u001b[0m\u001b[0;34m,\u001b[0m \u001b[0mverbose\u001b[0m\u001b[0;34m=\u001b[0m\u001b[0;36m1\u001b[0m\u001b[0;34m,\u001b[0m \u001b[0mcallbacks\u001b[0m\u001b[0;34m=\u001b[0m\u001b[0;34m[\u001b[0m\u001b[0mcallback\u001b[0m\u001b[0;34m]\u001b[0m\u001b[0;34m)\u001b[0m\u001b[0;34m\u001b[0m\u001b[0;34m\u001b[0m\u001b[0m\n\u001b[0m",
            "\u001b[0;32m/usr/local/lib/python3.7/dist-packages/tensorflow/python/keras/engine/training.py\u001b[0m in \u001b[0;36mfit\u001b[0;34m(self, x, y, batch_size, epochs, verbose, callbacks, validation_split, validation_data, shuffle, class_weight, sample_weight, initial_epoch, steps_per_epoch, validation_steps, validation_batch_size, validation_freq, max_queue_size, workers, use_multiprocessing)\u001b[0m\n\u001b[1;32m   1186\u001b[0m               \u001b[0mlogs\u001b[0m \u001b[0;34m=\u001b[0m \u001b[0mtmp_logs\u001b[0m  \u001b[0;31m# No error, now safe to assign to logs.\u001b[0m\u001b[0;34m\u001b[0m\u001b[0;34m\u001b[0m\u001b[0m\n\u001b[1;32m   1187\u001b[0m               \u001b[0mend_step\u001b[0m \u001b[0;34m=\u001b[0m \u001b[0mstep\u001b[0m \u001b[0;34m+\u001b[0m \u001b[0mdata_handler\u001b[0m\u001b[0;34m.\u001b[0m\u001b[0mstep_increment\u001b[0m\u001b[0;34m\u001b[0m\u001b[0;34m\u001b[0m\u001b[0m\n\u001b[0;32m-> 1188\u001b[0;31m               \u001b[0mcallbacks\u001b[0m\u001b[0;34m.\u001b[0m\u001b[0mon_train_batch_end\u001b[0m\u001b[0;34m(\u001b[0m\u001b[0mend_step\u001b[0m\u001b[0;34m,\u001b[0m \u001b[0mlogs\u001b[0m\u001b[0;34m)\u001b[0m\u001b[0;34m\u001b[0m\u001b[0;34m\u001b[0m\u001b[0m\n\u001b[0m\u001b[1;32m   1189\u001b[0m               \u001b[0;32mif\u001b[0m \u001b[0mself\u001b[0m\u001b[0;34m.\u001b[0m\u001b[0mstop_training\u001b[0m\u001b[0;34m:\u001b[0m\u001b[0;34m\u001b[0m\u001b[0;34m\u001b[0m\u001b[0m\n\u001b[1;32m   1190\u001b[0m                 \u001b[0;32mbreak\u001b[0m\u001b[0;34m\u001b[0m\u001b[0;34m\u001b[0m\u001b[0m\n",
            "\u001b[0;32m/usr/local/lib/python3.7/dist-packages/tensorflow/python/keras/callbacks.py\u001b[0m in \u001b[0;36mon_train_batch_end\u001b[0;34m(self, batch, logs)\u001b[0m\n\u001b[1;32m    455\u001b[0m     \"\"\"\n\u001b[1;32m    456\u001b[0m     \u001b[0;32mif\u001b[0m \u001b[0mself\u001b[0m\u001b[0;34m.\u001b[0m\u001b[0m_should_call_train_batch_hooks\u001b[0m\u001b[0;34m:\u001b[0m\u001b[0;34m\u001b[0m\u001b[0;34m\u001b[0m\u001b[0m\n\u001b[0;32m--> 457\u001b[0;31m       \u001b[0mself\u001b[0m\u001b[0;34m.\u001b[0m\u001b[0m_call_batch_hook\u001b[0m\u001b[0;34m(\u001b[0m\u001b[0mModeKeys\u001b[0m\u001b[0;34m.\u001b[0m\u001b[0mTRAIN\u001b[0m\u001b[0;34m,\u001b[0m \u001b[0;34m'end'\u001b[0m\u001b[0;34m,\u001b[0m \u001b[0mbatch\u001b[0m\u001b[0;34m,\u001b[0m \u001b[0mlogs\u001b[0m\u001b[0;34m=\u001b[0m\u001b[0mlogs\u001b[0m\u001b[0;34m)\u001b[0m\u001b[0;34m\u001b[0m\u001b[0;34m\u001b[0m\u001b[0m\n\u001b[0m\u001b[1;32m    458\u001b[0m \u001b[0;34m\u001b[0m\u001b[0m\n\u001b[1;32m    459\u001b[0m   \u001b[0;32mdef\u001b[0m \u001b[0mon_test_batch_begin\u001b[0m\u001b[0;34m(\u001b[0m\u001b[0mself\u001b[0m\u001b[0;34m,\u001b[0m \u001b[0mbatch\u001b[0m\u001b[0;34m,\u001b[0m \u001b[0mlogs\u001b[0m\u001b[0;34m=\u001b[0m\u001b[0;32mNone\u001b[0m\u001b[0;34m)\u001b[0m\u001b[0;34m:\u001b[0m\u001b[0;34m\u001b[0m\u001b[0;34m\u001b[0m\u001b[0m\n",
            "\u001b[0;32m/usr/local/lib/python3.7/dist-packages/tensorflow/python/keras/callbacks.py\u001b[0m in \u001b[0;36m_call_batch_hook\u001b[0;34m(self, mode, hook, batch, logs)\u001b[0m\n\u001b[1;32m    315\u001b[0m       \u001b[0mself\u001b[0m\u001b[0;34m.\u001b[0m\u001b[0m_call_batch_begin_hook\u001b[0m\u001b[0;34m(\u001b[0m\u001b[0mmode\u001b[0m\u001b[0;34m,\u001b[0m \u001b[0mbatch\u001b[0m\u001b[0;34m,\u001b[0m \u001b[0mlogs\u001b[0m\u001b[0;34m)\u001b[0m\u001b[0;34m\u001b[0m\u001b[0;34m\u001b[0m\u001b[0m\n\u001b[1;32m    316\u001b[0m     \u001b[0;32melif\u001b[0m \u001b[0mhook\u001b[0m \u001b[0;34m==\u001b[0m \u001b[0;34m'end'\u001b[0m\u001b[0;34m:\u001b[0m\u001b[0;34m\u001b[0m\u001b[0;34m\u001b[0m\u001b[0m\n\u001b[0;32m--> 317\u001b[0;31m       \u001b[0mself\u001b[0m\u001b[0;34m.\u001b[0m\u001b[0m_call_batch_end_hook\u001b[0m\u001b[0;34m(\u001b[0m\u001b[0mmode\u001b[0m\u001b[0;34m,\u001b[0m \u001b[0mbatch\u001b[0m\u001b[0;34m,\u001b[0m \u001b[0mlogs\u001b[0m\u001b[0;34m)\u001b[0m\u001b[0;34m\u001b[0m\u001b[0;34m\u001b[0m\u001b[0m\n\u001b[0m\u001b[1;32m    318\u001b[0m     \u001b[0;32melse\u001b[0m\u001b[0;34m:\u001b[0m\u001b[0;34m\u001b[0m\u001b[0;34m\u001b[0m\u001b[0m\n\u001b[1;32m    319\u001b[0m       \u001b[0;32mraise\u001b[0m \u001b[0mValueError\u001b[0m\u001b[0;34m(\u001b[0m\u001b[0;34m'Unrecognized hook: {}'\u001b[0m\u001b[0;34m.\u001b[0m\u001b[0mformat\u001b[0m\u001b[0;34m(\u001b[0m\u001b[0mhook\u001b[0m\u001b[0;34m)\u001b[0m\u001b[0;34m)\u001b[0m\u001b[0;34m\u001b[0m\u001b[0;34m\u001b[0m\u001b[0m\n",
            "\u001b[0;32m/usr/local/lib/python3.7/dist-packages/tensorflow/python/keras/callbacks.py\u001b[0m in \u001b[0;36m_call_batch_end_hook\u001b[0;34m(self, mode, batch, logs)\u001b[0m\n\u001b[1;32m    335\u001b[0m       \u001b[0mself\u001b[0m\u001b[0;34m.\u001b[0m\u001b[0m_batch_times\u001b[0m\u001b[0;34m.\u001b[0m\u001b[0mappend\u001b[0m\u001b[0;34m(\u001b[0m\u001b[0mbatch_time\u001b[0m\u001b[0;34m)\u001b[0m\u001b[0;34m\u001b[0m\u001b[0;34m\u001b[0m\u001b[0m\n\u001b[1;32m    336\u001b[0m \u001b[0;34m\u001b[0m\u001b[0m\n\u001b[0;32m--> 337\u001b[0;31m     \u001b[0mself\u001b[0m\u001b[0;34m.\u001b[0m\u001b[0m_call_batch_hook_helper\u001b[0m\u001b[0;34m(\u001b[0m\u001b[0mhook_name\u001b[0m\u001b[0;34m,\u001b[0m \u001b[0mbatch\u001b[0m\u001b[0;34m,\u001b[0m \u001b[0mlogs\u001b[0m\u001b[0;34m)\u001b[0m\u001b[0;34m\u001b[0m\u001b[0;34m\u001b[0m\u001b[0m\n\u001b[0m\u001b[1;32m    338\u001b[0m \u001b[0;34m\u001b[0m\u001b[0m\n\u001b[1;32m    339\u001b[0m     \u001b[0;32mif\u001b[0m \u001b[0mlen\u001b[0m\u001b[0;34m(\u001b[0m\u001b[0mself\u001b[0m\u001b[0;34m.\u001b[0m\u001b[0m_batch_times\u001b[0m\u001b[0;34m)\u001b[0m \u001b[0;34m>=\u001b[0m \u001b[0mself\u001b[0m\u001b[0;34m.\u001b[0m\u001b[0m_num_batches_for_timing_check\u001b[0m\u001b[0;34m:\u001b[0m\u001b[0;34m\u001b[0m\u001b[0;34m\u001b[0m\u001b[0m\n",
            "\u001b[0;32m/usr/local/lib/python3.7/dist-packages/tensorflow/python/keras/callbacks.py\u001b[0m in \u001b[0;36m_call_batch_hook_helper\u001b[0;34m(self, hook_name, batch, logs)\u001b[0m\n\u001b[1;32m    373\u001b[0m     \u001b[0;32mfor\u001b[0m \u001b[0mcallback\u001b[0m \u001b[0;32min\u001b[0m \u001b[0mself\u001b[0m\u001b[0;34m.\u001b[0m\u001b[0mcallbacks\u001b[0m\u001b[0;34m:\u001b[0m\u001b[0;34m\u001b[0m\u001b[0;34m\u001b[0m\u001b[0m\n\u001b[1;32m    374\u001b[0m       \u001b[0mhook\u001b[0m \u001b[0;34m=\u001b[0m \u001b[0mgetattr\u001b[0m\u001b[0;34m(\u001b[0m\u001b[0mcallback\u001b[0m\u001b[0;34m,\u001b[0m \u001b[0mhook_name\u001b[0m\u001b[0;34m)\u001b[0m\u001b[0;34m\u001b[0m\u001b[0;34m\u001b[0m\u001b[0m\n\u001b[0;32m--> 375\u001b[0;31m       \u001b[0mhook\u001b[0m\u001b[0;34m(\u001b[0m\u001b[0mbatch\u001b[0m\u001b[0;34m,\u001b[0m \u001b[0mlogs\u001b[0m\u001b[0;34m)\u001b[0m\u001b[0;34m\u001b[0m\u001b[0;34m\u001b[0m\u001b[0m\n\u001b[0m\u001b[1;32m    376\u001b[0m \u001b[0;34m\u001b[0m\u001b[0m\n\u001b[1;32m    377\u001b[0m     \u001b[0;32mif\u001b[0m \u001b[0mself\u001b[0m\u001b[0;34m.\u001b[0m\u001b[0m_check_timing\u001b[0m\u001b[0;34m:\u001b[0m\u001b[0;34m\u001b[0m\u001b[0;34m\u001b[0m\u001b[0m\n",
            "\u001b[0;32m/usr/local/lib/python3.7/dist-packages/tensorflow/python/keras/callbacks.py\u001b[0m in \u001b[0;36mon_train_batch_end\u001b[0;34m(self, batch, logs)\u001b[0m\n\u001b[1;32m   1027\u001b[0m \u001b[0;34m\u001b[0m\u001b[0m\n\u001b[1;32m   1028\u001b[0m   \u001b[0;32mdef\u001b[0m \u001b[0mon_train_batch_end\u001b[0m\u001b[0;34m(\u001b[0m\u001b[0mself\u001b[0m\u001b[0;34m,\u001b[0m \u001b[0mbatch\u001b[0m\u001b[0;34m,\u001b[0m \u001b[0mlogs\u001b[0m\u001b[0;34m=\u001b[0m\u001b[0;32mNone\u001b[0m\u001b[0;34m)\u001b[0m\u001b[0;34m:\u001b[0m\u001b[0;34m\u001b[0m\u001b[0;34m\u001b[0m\u001b[0m\n\u001b[0;32m-> 1029\u001b[0;31m     \u001b[0mself\u001b[0m\u001b[0;34m.\u001b[0m\u001b[0m_batch_update_progbar\u001b[0m\u001b[0;34m(\u001b[0m\u001b[0mbatch\u001b[0m\u001b[0;34m,\u001b[0m \u001b[0mlogs\u001b[0m\u001b[0;34m)\u001b[0m\u001b[0;34m\u001b[0m\u001b[0;34m\u001b[0m\u001b[0m\n\u001b[0m\u001b[1;32m   1030\u001b[0m \u001b[0;34m\u001b[0m\u001b[0m\n\u001b[1;32m   1031\u001b[0m   \u001b[0;32mdef\u001b[0m \u001b[0mon_test_batch_end\u001b[0m\u001b[0;34m(\u001b[0m\u001b[0mself\u001b[0m\u001b[0;34m,\u001b[0m \u001b[0mbatch\u001b[0m\u001b[0;34m,\u001b[0m \u001b[0mlogs\u001b[0m\u001b[0;34m=\u001b[0m\u001b[0;32mNone\u001b[0m\u001b[0;34m)\u001b[0m\u001b[0;34m:\u001b[0m\u001b[0;34m\u001b[0m\u001b[0;34m\u001b[0m\u001b[0m\n",
            "\u001b[0;32m/usr/local/lib/python3.7/dist-packages/tensorflow/python/keras/callbacks.py\u001b[0m in \u001b[0;36m_batch_update_progbar\u001b[0;34m(self, batch, logs)\u001b[0m\n\u001b[1;32m   1099\u001b[0m     \u001b[0;32mif\u001b[0m \u001b[0mself\u001b[0m\u001b[0;34m.\u001b[0m\u001b[0mverbose\u001b[0m \u001b[0;34m==\u001b[0m \u001b[0;36m1\u001b[0m\u001b[0;34m:\u001b[0m\u001b[0;34m\u001b[0m\u001b[0;34m\u001b[0m\u001b[0m\n\u001b[1;32m   1100\u001b[0m       \u001b[0;31m# Only block async when verbose = 1.\u001b[0m\u001b[0;34m\u001b[0m\u001b[0;34m\u001b[0m\u001b[0;34m\u001b[0m\u001b[0m\n\u001b[0;32m-> 1101\u001b[0;31m       \u001b[0mlogs\u001b[0m \u001b[0;34m=\u001b[0m \u001b[0mtf_utils\u001b[0m\u001b[0;34m.\u001b[0m\u001b[0msync_to_numpy_or_python_type\u001b[0m\u001b[0;34m(\u001b[0m\u001b[0mlogs\u001b[0m\u001b[0;34m)\u001b[0m\u001b[0;34m\u001b[0m\u001b[0;34m\u001b[0m\u001b[0m\n\u001b[0m\u001b[1;32m   1102\u001b[0m       \u001b[0mself\u001b[0m\u001b[0;34m.\u001b[0m\u001b[0mprogbar\u001b[0m\u001b[0;34m.\u001b[0m\u001b[0mupdate\u001b[0m\u001b[0;34m(\u001b[0m\u001b[0mself\u001b[0m\u001b[0;34m.\u001b[0m\u001b[0mseen\u001b[0m\u001b[0;34m,\u001b[0m \u001b[0mlist\u001b[0m\u001b[0;34m(\u001b[0m\u001b[0mlogs\u001b[0m\u001b[0;34m.\u001b[0m\u001b[0mitems\u001b[0m\u001b[0;34m(\u001b[0m\u001b[0;34m)\u001b[0m\u001b[0;34m)\u001b[0m\u001b[0;34m,\u001b[0m \u001b[0mfinalize\u001b[0m\u001b[0;34m=\u001b[0m\u001b[0;32mFalse\u001b[0m\u001b[0;34m)\u001b[0m\u001b[0;34m\u001b[0m\u001b[0;34m\u001b[0m\u001b[0m\n\u001b[1;32m   1103\u001b[0m \u001b[0;34m\u001b[0m\u001b[0m\n",
            "\u001b[0;32m/usr/local/lib/python3.7/dist-packages/tensorflow/python/keras/utils/tf_utils.py\u001b[0m in \u001b[0;36msync_to_numpy_or_python_type\u001b[0;34m(tensors)\u001b[0m\n\u001b[1;32m    517\u001b[0m     \u001b[0;32mreturn\u001b[0m \u001b[0mt\u001b[0m  \u001b[0;31m# Don't turn ragged or sparse tensors to NumPy.\u001b[0m\u001b[0;34m\u001b[0m\u001b[0;34m\u001b[0m\u001b[0m\n\u001b[1;32m    518\u001b[0m \u001b[0;34m\u001b[0m\u001b[0m\n\u001b[0;32m--> 519\u001b[0;31m   \u001b[0;32mreturn\u001b[0m \u001b[0mnest\u001b[0m\u001b[0;34m.\u001b[0m\u001b[0mmap_structure\u001b[0m\u001b[0;34m(\u001b[0m\u001b[0m_to_single_numpy_or_python_type\u001b[0m\u001b[0;34m,\u001b[0m \u001b[0mtensors\u001b[0m\u001b[0;34m)\u001b[0m\u001b[0;34m\u001b[0m\u001b[0;34m\u001b[0m\u001b[0m\n\u001b[0m\u001b[1;32m    520\u001b[0m \u001b[0;34m\u001b[0m\u001b[0m\n\u001b[1;32m    521\u001b[0m \u001b[0;34m\u001b[0m\u001b[0m\n",
            "\u001b[0;32m/usr/local/lib/python3.7/dist-packages/tensorflow/python/util/nest.py\u001b[0m in \u001b[0;36mmap_structure\u001b[0;34m(func, *structure, **kwargs)\u001b[0m\n\u001b[1;32m    865\u001b[0m \u001b[0;34m\u001b[0m\u001b[0m\n\u001b[1;32m    866\u001b[0m   return pack_sequence_as(\n\u001b[0;32m--> 867\u001b[0;31m       \u001b[0mstructure\u001b[0m\u001b[0;34m[\u001b[0m\u001b[0;36m0\u001b[0m\u001b[0;34m]\u001b[0m\u001b[0;34m,\u001b[0m \u001b[0;34m[\u001b[0m\u001b[0mfunc\u001b[0m\u001b[0;34m(\u001b[0m\u001b[0;34m*\u001b[0m\u001b[0mx\u001b[0m\u001b[0;34m)\u001b[0m \u001b[0;32mfor\u001b[0m \u001b[0mx\u001b[0m \u001b[0;32min\u001b[0m \u001b[0mentries\u001b[0m\u001b[0;34m]\u001b[0m\u001b[0;34m,\u001b[0m\u001b[0;34m\u001b[0m\u001b[0;34m\u001b[0m\u001b[0m\n\u001b[0m\u001b[1;32m    868\u001b[0m       expand_composites=expand_composites)\n\u001b[1;32m    869\u001b[0m \u001b[0;34m\u001b[0m\u001b[0m\n",
            "\u001b[0;32m/usr/local/lib/python3.7/dist-packages/tensorflow/python/util/nest.py\u001b[0m in \u001b[0;36m<listcomp>\u001b[0;34m(.0)\u001b[0m\n\u001b[1;32m    865\u001b[0m \u001b[0;34m\u001b[0m\u001b[0m\n\u001b[1;32m    866\u001b[0m   return pack_sequence_as(\n\u001b[0;32m--> 867\u001b[0;31m       \u001b[0mstructure\u001b[0m\u001b[0;34m[\u001b[0m\u001b[0;36m0\u001b[0m\u001b[0;34m]\u001b[0m\u001b[0;34m,\u001b[0m \u001b[0;34m[\u001b[0m\u001b[0mfunc\u001b[0m\u001b[0;34m(\u001b[0m\u001b[0;34m*\u001b[0m\u001b[0mx\u001b[0m\u001b[0;34m)\u001b[0m \u001b[0;32mfor\u001b[0m \u001b[0mx\u001b[0m \u001b[0;32min\u001b[0m \u001b[0mentries\u001b[0m\u001b[0;34m]\u001b[0m\u001b[0;34m,\u001b[0m\u001b[0;34m\u001b[0m\u001b[0;34m\u001b[0m\u001b[0m\n\u001b[0m\u001b[1;32m    868\u001b[0m       expand_composites=expand_composites)\n\u001b[1;32m    869\u001b[0m \u001b[0;34m\u001b[0m\u001b[0m\n",
            "\u001b[0;32m/usr/local/lib/python3.7/dist-packages/tensorflow/python/keras/utils/tf_utils.py\u001b[0m in \u001b[0;36m_to_single_numpy_or_python_type\u001b[0;34m(t)\u001b[0m\n\u001b[1;32m    513\u001b[0m   \u001b[0;32mdef\u001b[0m \u001b[0m_to_single_numpy_or_python_type\u001b[0m\u001b[0;34m(\u001b[0m\u001b[0mt\u001b[0m\u001b[0;34m)\u001b[0m\u001b[0;34m:\u001b[0m\u001b[0;34m\u001b[0m\u001b[0;34m\u001b[0m\u001b[0m\n\u001b[1;32m    514\u001b[0m     \u001b[0;32mif\u001b[0m \u001b[0misinstance\u001b[0m\u001b[0;34m(\u001b[0m\u001b[0mt\u001b[0m\u001b[0;34m,\u001b[0m \u001b[0mops\u001b[0m\u001b[0;34m.\u001b[0m\u001b[0mTensor\u001b[0m\u001b[0;34m)\u001b[0m\u001b[0;34m:\u001b[0m\u001b[0;34m\u001b[0m\u001b[0;34m\u001b[0m\u001b[0m\n\u001b[0;32m--> 515\u001b[0;31m       \u001b[0mx\u001b[0m \u001b[0;34m=\u001b[0m \u001b[0mt\u001b[0m\u001b[0;34m.\u001b[0m\u001b[0mnumpy\u001b[0m\u001b[0;34m(\u001b[0m\u001b[0;34m)\u001b[0m\u001b[0;34m\u001b[0m\u001b[0;34m\u001b[0m\u001b[0m\n\u001b[0m\u001b[1;32m    516\u001b[0m       \u001b[0;32mreturn\u001b[0m \u001b[0mx\u001b[0m\u001b[0;34m.\u001b[0m\u001b[0mitem\u001b[0m\u001b[0;34m(\u001b[0m\u001b[0;34m)\u001b[0m \u001b[0;32mif\u001b[0m \u001b[0mnp\u001b[0m\u001b[0;34m.\u001b[0m\u001b[0mndim\u001b[0m\u001b[0;34m(\u001b[0m\u001b[0mx\u001b[0m\u001b[0;34m)\u001b[0m \u001b[0;34m==\u001b[0m \u001b[0;36m0\u001b[0m \u001b[0;32melse\u001b[0m \u001b[0mx\u001b[0m\u001b[0;34m\u001b[0m\u001b[0;34m\u001b[0m\u001b[0m\n\u001b[1;32m    517\u001b[0m     \u001b[0;32mreturn\u001b[0m \u001b[0mt\u001b[0m  \u001b[0;31m# Don't turn ragged or sparse tensors to NumPy.\u001b[0m\u001b[0;34m\u001b[0m\u001b[0;34m\u001b[0m\u001b[0m\n",
            "\u001b[0;32m/usr/local/lib/python3.7/dist-packages/tensorflow/python/framework/ops.py\u001b[0m in \u001b[0;36mnumpy\u001b[0;34m(self)\u001b[0m\n\u001b[1;32m   1092\u001b[0m     \"\"\"\n\u001b[1;32m   1093\u001b[0m     \u001b[0;31m# TODO(slebedev): Consider avoiding a copy for non-CPU or remote tensors.\u001b[0m\u001b[0;34m\u001b[0m\u001b[0;34m\u001b[0m\u001b[0;34m\u001b[0m\u001b[0m\n\u001b[0;32m-> 1094\u001b[0;31m     \u001b[0mmaybe_arr\u001b[0m \u001b[0;34m=\u001b[0m \u001b[0mself\u001b[0m\u001b[0;34m.\u001b[0m\u001b[0m_numpy\u001b[0m\u001b[0;34m(\u001b[0m\u001b[0;34m)\u001b[0m  \u001b[0;31m# pylint: disable=protected-access\u001b[0m\u001b[0;34m\u001b[0m\u001b[0;34m\u001b[0m\u001b[0m\n\u001b[0m\u001b[1;32m   1095\u001b[0m     \u001b[0;32mreturn\u001b[0m \u001b[0mmaybe_arr\u001b[0m\u001b[0;34m.\u001b[0m\u001b[0mcopy\u001b[0m\u001b[0;34m(\u001b[0m\u001b[0;34m)\u001b[0m \u001b[0;32mif\u001b[0m \u001b[0misinstance\u001b[0m\u001b[0;34m(\u001b[0m\u001b[0mmaybe_arr\u001b[0m\u001b[0;34m,\u001b[0m \u001b[0mnp\u001b[0m\u001b[0;34m.\u001b[0m\u001b[0mndarray\u001b[0m\u001b[0;34m)\u001b[0m \u001b[0;32melse\u001b[0m \u001b[0mmaybe_arr\u001b[0m\u001b[0;34m\u001b[0m\u001b[0;34m\u001b[0m\u001b[0m\n\u001b[1;32m   1096\u001b[0m \u001b[0;34m\u001b[0m\u001b[0m\n",
            "\u001b[0;32m/usr/local/lib/python3.7/dist-packages/tensorflow/python/framework/ops.py\u001b[0m in \u001b[0;36m_numpy\u001b[0;34m(self)\u001b[0m\n\u001b[1;32m   1058\u001b[0m   \u001b[0;32mdef\u001b[0m \u001b[0m_numpy\u001b[0m\u001b[0;34m(\u001b[0m\u001b[0mself\u001b[0m\u001b[0;34m)\u001b[0m\u001b[0;34m:\u001b[0m\u001b[0;34m\u001b[0m\u001b[0;34m\u001b[0m\u001b[0m\n\u001b[1;32m   1059\u001b[0m     \u001b[0;32mtry\u001b[0m\u001b[0;34m:\u001b[0m\u001b[0;34m\u001b[0m\u001b[0;34m\u001b[0m\u001b[0m\n\u001b[0;32m-> 1060\u001b[0;31m       \u001b[0;32mreturn\u001b[0m \u001b[0mself\u001b[0m\u001b[0;34m.\u001b[0m\u001b[0m_numpy_internal\u001b[0m\u001b[0;34m(\u001b[0m\u001b[0;34m)\u001b[0m\u001b[0;34m\u001b[0m\u001b[0;34m\u001b[0m\u001b[0m\n\u001b[0m\u001b[1;32m   1061\u001b[0m     \u001b[0;32mexcept\u001b[0m \u001b[0mcore\u001b[0m\u001b[0;34m.\u001b[0m\u001b[0m_NotOkStatusException\u001b[0m \u001b[0;32mas\u001b[0m \u001b[0me\u001b[0m\u001b[0;34m:\u001b[0m  \u001b[0;31m# pylint: disable=protected-access\u001b[0m\u001b[0;34m\u001b[0m\u001b[0;34m\u001b[0m\u001b[0m\n\u001b[1;32m   1062\u001b[0m       \u001b[0msix\u001b[0m\u001b[0;34m.\u001b[0m\u001b[0mraise_from\u001b[0m\u001b[0;34m(\u001b[0m\u001b[0mcore\u001b[0m\u001b[0;34m.\u001b[0m\u001b[0m_status_to_exception\u001b[0m\u001b[0;34m(\u001b[0m\u001b[0me\u001b[0m\u001b[0;34m.\u001b[0m\u001b[0mcode\u001b[0m\u001b[0;34m,\u001b[0m \u001b[0me\u001b[0m\u001b[0;34m.\u001b[0m\u001b[0mmessage\u001b[0m\u001b[0;34m)\u001b[0m\u001b[0;34m,\u001b[0m \u001b[0;32mNone\u001b[0m\u001b[0;34m)\u001b[0m  \u001b[0;31m# pylint: disable=protected-access\u001b[0m\u001b[0;34m\u001b[0m\u001b[0;34m\u001b[0m\u001b[0m\n",
            "\u001b[0;31mKeyboardInterrupt\u001b[0m: "
          ]
        }
      ]
    },
    {
      "cell_type": "code",
      "metadata": {
        "colab": {
          "base_uri": "https://localhost:8080/",
          "height": 282
        },
        "id": "9OHzmfHyX8g5",
        "outputId": "f2a44928-e229-42f0-f35e-5b58e7ce6548"
      },
      "source": [
        "plt.figure()\n",
        "plt.plot(history.history['loss'][2:])\n",
        "plt.plot(history.history['val_loss'][2:])\n",
        "plt.xlabel(\"epoch\", fontsize=\"large\")\n",
        "plt.show()\n",
        "plt.close()"
      ],
      "execution_count": 13,
      "outputs": [
        {
          "output_type": "display_data",
          "data": {
            "image/png": "[encoded data removed]",
            "text/plain": [
              "<Figure size 432x288 with 1 Axes>"
            ]
          },
          "metadata": {
            "tags": [],
            "needs_background": "light"
          }
        }
      ]
    },
    {
      "cell_type": "code",
      "metadata": {
        "colab": {
          "base_uri": "https://localhost:8080/",
          "height": 924
        },
        "id": "lWZnRBC9H0By",
        "outputId": "b65b56a5-3a73-4226-e1f4-5b4c5ca655ab"
      },
      "source": [
        "# Plot an example\n",
        "\n",
        "# Must be less than batch size\n",
        "IMG_NUM = 5\n",
        "\n",
        "# We will just shuffle the test set and take a batch sample.  Then we plot some \n",
        "# heat maps of the predicted IOUs and plot the best bounding boxes.\n",
        "for s_samp in X_test.shuffle(256).take(1):\n",
        "  y_pred=yolo_model.predict(s_samp[0])\n",
        "  y = tf.exp(y_pred[IMG_NUM, :, :, :]).numpy()\n",
        "\n",
        "  plt.imshow(y[:,:,4].T)\n",
        "  plt.figure()\n",
        "  plt.imshow(y[:,:,9].T)\n",
        "\n",
        "  y_ind = np.logical_or(y[:,:,4] < 0.3, np.logical_and(y[:,:,10] < 0.5, y[:,:,11] < 0.5))\n",
        "\n",
        "  y[y_ind, :] = np.zeros((np.sum(y_ind), 13))  \n",
        "\n",
        "  X_data.plotImg(s_samp[0][IMG_NUM, :, :, :], np.concatenate((y[:, :, :4], y[:, :, B*5:]), -1))"
      ],
      "execution_count": 29,
      "outputs": [
        {
          "output_type": "display_data",
          "data": {
            "image/png": "[encoded data removed]",
            "text/plain": [
              "<Figure size 432x288 with 1 Axes>"
            ]
          },
          "metadata": {
            "tags": [],
            "needs_background": "light"
          }
        },
        {
          "output_type": "display_data",
          "data": {
            "image/png": "[encoded data removed]",
            "text/plain": [
              "<Figure size 432x288 with 1 Axes>"
            ]
          },
          "metadata": {
            "tags": [],
            "needs_background": "light"
          }
        },
        {
          "output_type": "display_data",
          "data": {
            "image/png": "[encoded data removed]",
            "text/plain": [
              "<Figure size 504x504 with 1 Axes>"
            ]
          },
          "metadata": {
            "tags": [],
            "needs_background": "light"
          }
        }
      ]
    }
  ]
}