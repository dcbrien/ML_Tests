{
 "cells": [
  {
   "cell_type": "code",
   "execution_count": 74,
   "metadata": {},
   "outputs": [],
   "source": [
    "# important imports for this notebook\n",
    "from absl import logging\n",
    "import flax\n",
    "import jax.numpy as jnp\n",
    "import jax\n",
    "from matplotlib import pyplot as plt\n",
    "import numpy as np\n",
    "import tensorflow_datasets as tfds\n",
    "\n",
    "import optax\n",
    "from flax.training import train_state\n",
    "\n",
    "logging.set_verbosity(logging.INFO)"
   ]
  },
  {
   "cell_type": "code",
   "execution_count": 75,
   "metadata": {},
   "outputs": [
    {
     "name": "stderr",
     "output_type": "stream",
     "text": [
      "INFO:absl:Load dataset info from /home/don/tensorflow_datasets/mnist/3.0.1\n",
      "INFO:absl:For 'mnist/3.0.1': fields info.[citation, splits, supervised_keys, module_name] differ on disk and in the code. Keeping the one from code.\n",
      "INFO:absl:Reusing dataset mnist (/home/don/tensorflow_datasets/mnist/3.0.1)\n",
      "INFO:absl:Creating a tf.data.Dataset reading 1 files located in folders: /home/don/tensorflow_datasets/mnist/3.0.1.\n",
      "INFO:absl:Constructing tf.data.Dataset mnist for split train, from /home/don/tensorflow_datasets/mnist/3.0.1\n",
      "INFO:absl:Creating a tf.data.Dataset reading 1 files located in folders: /home/don/tensorflow_datasets/mnist/3.0.1.\n",
      "INFO:absl:Constructing tf.data.Dataset mnist for split test, from /home/don/tensorflow_datasets/mnist/3.0.1\n"
     ]
    }
   ],
   "source": [
    "# Load in a dataset - start with mnist\n",
    "\n",
    "# These commands break up the load command into it's parts for more controls\n",
    "ds_builder = tfds.builder('mnist')\n",
    "ds_builder.download_and_prepare()\n",
    "# 60000 training samples - no shuffle, no batch causes this to return a tensor of\n",
    "# all of the data instead of a tensorflow dataset structure - we won't use tf.data\n",
    "# here and just want to convert to numpy - these return dictionaries\n",
    "train_ds = tfds.as_numpy(ds_builder.as_dataset(split='train', batch_size=-1))\n",
    "test_ds = tfds.as_numpy(ds_builder.as_dataset(split='test', batch_size=-1))\n",
    "\n",
    "# convert to 0 - 1 range for neural network training - don't want an arbitrary weight\n",
    "# which could cause large gradients and difficult training.\n",
    "train_ds['image'] = jnp.float32(train_ds['image']) / 255.0\n",
    "test_ds['image'] = jnp.float32(test_ds['image']) / 255.0"
   ]
  },
  {
   "cell_type": "code",
   "execution_count": 76,
   "metadata": {},
   "outputs": [
    {
     "data": {
      "image/png": "[encoded data removed]",
      "text/plain": [
       "<Figure size 750x750 with 25 Axes>"
      ]
     },
     "metadata": {},
     "output_type": "display_data"
    }
   ],
   "source": [
    "# Always good to check the data to make sure it loaded in properly\n",
    "# Helper functions for images.\n",
    "\n",
    "def show_img(img, ax=None, title=None):\n",
    "  \"\"\"Shows a single image.\"\"\"\n",
    "  if ax is None:\n",
    "    ax = plt.gca()\n",
    "  ax.imshow(img[..., 0], cmap='gray')\n",
    "  ax.set_xticks([])\n",
    "  ax.set_yticks([])\n",
    "  if title:\n",
    "    ax.set_title(title, fontsize=10)\n",
    "\n",
    "def show_img_grid(imgs, titles):\n",
    "  \"\"\"Shows a grid of images.\"\"\"\n",
    "  n = int(np.ceil(len(imgs)**.5))\n",
    "  _, axs = plt.subplots(n, n, figsize=(1.5 * n, 1.5 * n))\n",
    "  for i, (img, title) in enumerate(zip(imgs, titles)):\n",
    "    show_img(img, axs[i // n][i % n], title)\n",
    "\n",
    "show_img_grid(\n",
    "    [train_ds['image'][idx] for idx in range(25)],\n",
    "    [f'{train_ds[\"label\"][idx]}' for idx in range(25)],\n",
    ")\n",
    "     "
   ]
  },
  {
   "cell_type": "code",
   "execution_count": 26,
   "metadata": {},
   "outputs": [
    {
     "name": "stdout",
     "output_type": "stream",
     "text": [
      "The tensorboard extension is already loaded. To reload it, use:\n",
      "  %reload_ext tensorboard\n"
     ]
    },
    {
     "data": {
      "text/plain": [
       "Reusing TensorBoard on port 6006 (pid 28198), started 0:07:10 ago. (Use '!kill 28198' to kill it.)"
      ]
     },
     "metadata": {},
     "output_type": "display_data"
    },
    {
     "data": {
      "text/html": [
       "\n",
       "      <iframe id=\"tensorboard-frame-66cdd1c81636caef\" width=\"100%\" height=\"800\" frameborder=\"0\">\n",
       "      </iframe>\n",
       "      <script>\n",
       "        (function() {\n",
       "          const frame = document.getElementById(\"tensorboard-frame-66cdd1c81636caef\");\n",
       "          const url = new URL(\"http://localhost\");\n",
       "          const port = 6006;\n",
       "          if (port) {\n",
       "            url.port = port;\n",
       "          }\n",
       "          frame.src = url;\n",
       "        })();\n",
       "      </script>\n",
       "    "
      ],
      "text/plain": [
       "<IPython.core.display.HTML object>"
      ]
     },
     "metadata": {},
     "output_type": "display_data"
    }
   ],
   "source": [
    "%load_ext tensorboard\n",
    "%tensorboard --logdir='flax_runs'"
   ]
  },
  {
   "cell_type": "code",
   "execution_count": 112,
   "metadata": {},
   "outputs": [],
   "source": [
    "# set up a convolutional model for image data in flax\n",
    "from flax import linen as nn\n",
    "\n",
    "class CNN(nn.Module):\n",
    "    @nn.compact\n",
    "    def __call__(self, x):\n",
    "        # this is like the sequential model from Haiku\n",
    "        x = nn.Conv(features=32, kernel_size=(3, 3))(x)\n",
    "        x = nn.relu(x)\n",
    "        x = nn.avg_pool(x, window_shape=(2, 2), strides=(2, 2))\n",
    "        x = nn.Conv(features=64, kernel_size=(3, 3))(x)\n",
    "        x = nn.relu(x)\n",
    "        x = nn.avg_pool(x, window_shape=(2, 2), strides=(2, 2))\n",
    "\n",
    "        x = x.reshape((x.shape[0], -1)) #flatten the outputs\n",
    "        x = nn.Dense(features=256)(x)\n",
    "        x = nn.relu(x)\n",
    "\n",
    "        # Need 10 output logits (1 per number) - thesse are assumed\n",
    "        # to be log(probabilites) and will be fed into a softmax\n",
    "        # layer at evaluation time. the softmax could also be placed\n",
    "        # here\n",
    "        x = nn.Dense(features=10)(x)\n",
    "        \n",
    "        return x"
   ]
  },
  {
   "cell_type": "code",
   "execution_count": 115,
   "metadata": {},
   "outputs": [
    {
     "data": {
      "text/plain": [
       "(1, 10)"
      ]
     },
     "execution_count": 115,
     "metadata": {},
     "output_type": "execute_result"
    }
   ],
   "source": [
    "# test the model\n",
    "batch_size = 128\n",
    "learning_rate = 0.001\n",
    "\n",
    "rng = jax.random.key(0)\n",
    "\n",
    "model = CNN()\n",
    "\n",
    "batch = jnp.ones([1, 28, 28, 1])\n",
    "\n",
    "rng, init_rng = jax.random.split(rng)\n",
    "\n",
    "# initialize the model (i.e. generate random weights / parameters )\n",
    "params = model.init(init_rng, batch)['params']\n",
    "\n",
    "# params has to go in a kwarg\n",
    "model.apply({'params': params}, batch).shape"
   ]
  },
  {
   "cell_type": "code",
   "execution_count": 116,
   "metadata": {},
   "outputs": [],
   "source": [
    "# We need a function to apply the gradients to the model, which will\n",
    "# update the parameters - can be used to update the model, or we \n",
    "# can ignore the gradients and calculate stats for the test set\n",
    "@jax.jit\n",
    "def apply_model(state, images, labels):\n",
    "    \n",
    "    def loss_fn(params):\n",
    "        logits = state.apply_fn({'params': params}, images)\n",
    "        one_hot = jax.nn.one_hot(labels, 10)\n",
    "        loss = jnp.mean(optax.softmax_cross_entropy(logits=logits, labels=one_hot))\n",
    "        return loss, logits\n",
    "    \n",
    "    grad_fn = jax.value_and_grad(loss_fn, has_aux=True)\n",
    "    (loss, logits), grads = grad_fn(state.params)\n",
    "    accuracy = jnp.mean(jnp.argmax(logits, -1) == labels)\n",
    "    return grads, loss, accuracy"
   ]
  },
  {
   "cell_type": "code",
   "execution_count": 117,
   "metadata": {},
   "outputs": [],
   "source": [
    "# simulate one training run\n",
    "# initialize optax with a particular training algorithm\n",
    "tx = optax.adam(learning_rate=learning_rate)\n",
    "\n",
    "# we then store the state of the training (current parameters, state of optax, and the function to apply)\n",
    "state = train_state.TrainState.create(apply_fn=model.apply, params=params, tx=tx)\n",
    "rng, init_rng = jax.random.split(rng)\n",
    "\n",
    "train_ds_size = len(train_ds['image'])\n",
    "# Once we have a random permutation of data, this is how many times we \n",
    "# will need ot divide it up to get the required batches\n",
    "steps_per_epoch = train_ds_size // batch_size\n",
    "\n",
    "# Get a random permutation\n",
    "perms = jax.random.permutation(rng, len(train_ds['image']))\n",
    "perms = perms[: steps_per_epoch * batch_size]  # skip incomplete batch\n",
    "perms = perms.reshape((steps_per_epoch, batch_size))\n",
    "\n",
    "# So perms will just be a list of indcies into the original training dataset\n",
    "\n",
    "# This is what one batch of the permutation looks like then\n",
    "batch_images = train_ds['image'][perms[0], ...]\n",
    "batch_labels = train_ds['label'][perms[0], ...]\n",
    "\n",
    "# 1 - apply model - apply the model to the current batch images, get the logits,\n",
    "# get the loss, and calculate the gradients over the current batch\n",
    "grads, loss, accuracy = apply_model(state, batch_images, batch_labels)\n",
    "\n",
    "# 2 - apply the gradients to update the parameters and then update the state \n",
    "# variable (it will internally keep track of the step number)\n",
    "state = state.apply_gradients(grads=grads)\n",
    "\n",
    "# 3 - now we could do it all over again"
   ]
  },
  {
   "cell_type": "code",
   "execution_count": 108,
   "metadata": {},
   "outputs": [
    {
     "data": {
      "text/plain": [
       "(128, 28, 28, 1)"
      ]
     },
     "execution_count": 108,
     "metadata": {},
     "output_type": "execute_result"
    }
   ],
   "source": [
    "batch_images.shape"
   ]
  },
  {
   "cell_type": "code",
   "execution_count": 118,
   "metadata": {},
   "outputs": [
    {
     "name": "stderr",
     "output_type": "stream",
     "text": [
      "INFO:absl:epoch:  1, train_loss: 489.1062, train_accuracy: 10.14, test_loss: 0.0000, test_accuracy: 0.00\n"
     ]
    }
   ],
   "source": [
    "# then we can put this into a full training loop - this is 1 epoch, i.e. \n",
    "# one full run through all of the distinct data. Generally you will need \n",
    "# to run many epochs to fully train a network though.\n",
    "epoch_loss = []\n",
    "epoch_accuracy = []\n",
    "\n",
    "for perm in perms:\n",
    "    batch_images = train_ds['image'][perm, ...]\n",
    "    batch_labels = train_ds['label'][perm, ...]\n",
    "\n",
    "    grads, loss, accuracy = apply_model(state, batch_images, batch_labels)\n",
    "\n",
    "    state = state.apply_gradients(grads=grads)\n",
    "\n",
    "    epoch_loss.append(loss)\n",
    "    epoch_accuracy.append(accuracy)\n",
    "\n",
    "train_loss = np.mean(epoch_loss)\n",
    "train_accuracy = np.mean(epoch_accuracy)\n",
    "\n",
    "logging.info(\n",
    "        'epoch:% 3d, train_loss: %.4f, train_accuracy: %.2f, test_loss: %.4f,'\n",
    "        ' test_accuracy: %.2f'\n",
    "        % (\n",
    "            1,\n",
    "            train_loss,\n",
    "            train_accuracy * 100,\n",
    "            0,\n",
    "            0 * 100,\n",
    "        )\n",
    "    )"
   ]
  },
  {
   "cell_type": "code",
   "execution_count": 58,
   "metadata": {},
   "outputs": [
    {
     "data": {
      "text/plain": [
       "0.14324078"
      ]
     },
     "execution_count": 58,
     "metadata": {},
     "output_type": "execute_result"
    }
   ],
   "source": [
    "train_accuracy"
   ]
  }
 ],
 "metadata": {
  "kernelspec": {
   "display_name": "jax_env",
   "language": "python",
   "name": "python3"
  },
  "language_info": {
   "codemirror_mode": {
    "name": "ipython",
    "version": 3
   },
   "file_extension": ".py",
   "mimetype": "text/x-python",
   "name": "python",
   "nbconvert_exporter": "python",
   "pygments_lexer": "ipython3",
   "version": "3.10.14"
  }
 },
 "nbformat": 4,
 "nbformat_minor": 2
}
